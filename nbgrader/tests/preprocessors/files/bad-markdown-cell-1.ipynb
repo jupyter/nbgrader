{
 "cells": [
  {
   "cell_type": "markdown",
   "metadata": {
    "collapsed": false,
    "nbgrader": {
     "grade": true,
     "grade_id": "foo",
     "locked": false,
     "points": 1.0,
     "schema_version": 2,
     "solution": false
    }
   },
   "source": [
    "this is a markdown cell"
   ]
  }
 ],
 "metadata": {
  "kernelspec": {
   "display_name": "Python",
   "language": "python",
   "name": "python"
  }
 },
 "nbformat": 4,
 "nbformat_minor": 0
}
