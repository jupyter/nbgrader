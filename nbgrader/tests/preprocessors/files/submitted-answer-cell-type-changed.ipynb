{
 "cells": [
  {
   "cell_type": "markdown",
   "execution_count": null,
   "metadata": {
    "collapsed": true,
    "deletable": false,
    "nbgrader": {
     "cell_type": "code",
     "checksum": "3d6aac4236f8e1ec85380e692dcc51b1",
     "grade": false,
     "grade_id": "set_a",
     "locked": false,
     "schema_version": 2,
     "solution": true
    }
   },
   "outputs": [],
   "source": [
    "# YOUR CODE HERE\n",
    "raise NotImplementedError()"
   ]
  },
  {
   "cell_type": "code",
   "execution_count": null,
   "metadata": {
    "collapsed": true,
    "deletable": false,
    "nbgrader": {
     "cell_type": "code",
     "checksum": "8bb5c7c6f388fae724e5ef53dc4deeb2",
     "grade": true,
     "grade_id": "foo",
     "locked": false,
     "points": 1.0,
     "schema_version": 2,
     "solution": false
    }
   },
   "outputs": [],
   "source": [
    "print(\"Success!\")"
   ]
  },
  {
   "cell_type": "code",
   "execution_count": null,
   "metadata": {
    "collapsed": true,
    "deletable": false,
    "nbgrader": {
     "cell_type": "code",
     "checksum": "75d78cdf605a339809ceaace462c5f33",
     "grade": true,
     "grade_id": "bar",
     "locked": false,
     "points": 1.0,
     "schema_version": 2,
     "solution": false
    }
   },
   "outputs": [],
   "source": [
    "assert a == 1"
   ]
  },
  {
   "cell_type": "markdown",
   "metadata": {
    "deletable": false,
    "nbgrader": {
     "cell_type": "markdown",
     "checksum": "9e51fd0022c24c4105e38369d2f9d751",
     "grade": true,
     "grade_id": "baz",
     "locked": false,
     "points": 2.0,
     "schema_version": 2,
     "solution": true
    }
   },
   "source": [
    "YOUR ANSWER HERE"
   ]
  },
  {
   "cell_type": "code",
   "execution_count": null,
   "metadata": {
    "collapsed": true,
    "nbgrader": {
     "cell_type": "code",
     "checksum": "5a193c164d7b444efe9a3612bee09f4c",
     "grade": true,
     "grade_id": "quux",
     "locked": false,
     "points": 3.0,
     "schema_version": 2,
     "solution": true
    }
   },
   "outputs": [],
   "source": [
    "# YOUR CODE HERE\n",
    "raise NotImplementedError()"
   ]
  },
  {
   "cell_type": "code",
   "execution_count": null,
   "metadata": {
    "collapsed": true,
    "nbgrader": {
     "cell_type": "code",
     "checksum": "86f5f877fe95faac003fcd4b8d43d093",
     "grade": false,
     "grade_id": "ro1",
     "locked": true,
     "schema_version": 2,
     "solution": false
    }
   },
   "outputs": [],
   "source": [
    "print(\"Don't change this cell!\")"
   ]
  },
  {
   "cell_type": "markdown",
   "metadata": {
    "nbgrader": {
     "cell_type": "markdown",
     "checksum": "0122b50e5eaf367b9874d07ebaf80521",
     "grade": false,
     "grade_id": "ro2",
     "locked": true,
     "schema_version": 2,
     "solution": false
    }
   },
   "source": [
    "This cell shouldn't be changed."
   ]
  }
 ],
 "metadata": {
  "kernelspec": {
   "display_name": "Python",
   "language": "python",
   "name": "python"
  }
 },
 "nbformat": 4,
 "nbformat_minor": 0
}
