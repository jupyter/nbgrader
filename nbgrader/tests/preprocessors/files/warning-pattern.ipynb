{
 "cells": [
  {
   "cell_type": "code",
   "execution_count": 2,
   "id": "efd8b463-ea80-4620-b01b-1382a56e7836",
   "metadata": {
    "tags": []
   },
   "outputs": [
    {
     "name": "stderr",
     "output_type": "stream",
     "text": [
      "[W NNPACK.cpp:64] Could not initialize NNPACK! Reason: Unsupported hardware.\n"
     ]
    },
    {
     "data": {
      "text/plain": [
       "5"
      ]
     },
     "execution_count": 2,
     "metadata": {},
     "output_type": "execute_result"
    }
   ],
   "source": [
    "import torch\n",
    "layer = torch.nn.Conv2d(1, 32, 3, stride=1, padding=1)\n",
    "x = torch.randn(1, 1, 28, 28)\n",
    "y = layer(x)\n",
    "5"
   ]
  },
  {
   "cell_type": "code",
   "execution_count": 2,
   "id": "2a2b6474-f64b-4c28-ac83-5d1c7bbfd92f",
   "metadata": {
    "tags": []
   },
   "outputs": [
    {
     "name": "stderr",
     "output_type": "stream",
     "text": [
      "/tmp/ipykernel_522/3731920106.py:3: UserWarning: This is a warning message\n",
      "  warnings.warn(\"This is a warning message\")\n"
     ]
    }
   ],
   "source": [
    "import warnings\n",
    "\n",
    "warnings.warn(\"This is a warning message\")"
   ]
  }
 ],
 "metadata": {
  "kernelspec": {
   "display_name": "Python 3",
   "language": "python",
   "name": "python3"
  },
  "language_info": {
   "codemirror_mode": {
    "name": "ipython",
    "version": 3
   },
   "file_extension": ".py",
   "mimetype": "text/x-python",
   "name": "python",
   "nbconvert_exporter": "python",
   "pygments_lexer": "ipython3",
   "version": "3.10.12"
  }
 },
 "nbformat": 4,
 "nbformat_minor": 5
}
