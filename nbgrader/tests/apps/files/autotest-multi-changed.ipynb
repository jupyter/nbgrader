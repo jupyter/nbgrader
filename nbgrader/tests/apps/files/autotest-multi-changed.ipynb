{
 "cells": [
  {
   "cell_type": "code",
   "execution_count": null,
   "metadata": {
    "deletable": false,
    "nbgrader": {
     "cell_type": "code",
     "checksum": "e0106b7b1e000112c4ce2c8f8fa64ed1",
     "grade": false,
     "grade_id": "soln",
     "locked": false,
     "schema_version": 3,
     "solution": true
    }
   },
   "outputs": [],
   "source": [
    "# YOUR CODE HERE\n",
    "a = 5\n",
    "b = \"hello\"\n",
    "c = [1, 2, \"test\"]\n",
    "d = {1 : 6, 3: 5} #right type, wrong value\n",
    "e = [5, -3.3, 'd'] #right values, wrong type\n",
    "f = True # wrong value\n",
    "def fun(x):\n",
    "    if x < 0:\n",
    "        raise ValueError\n",
    "    else:\n",
    "        return x"
   ]
  },
  {
   "cell_type": "code",
   "execution_count": null,
   "metadata": {
    "deletable": false,
    "editable": false,
    "max_height": 100,
    "nbgrader": {
     "cell_type": "code",
     "checksum": "620860a42fa05b556da01013ef99ed8c",
     "grade": true,
     "grade_id": "test_multi",
     "locked": false,
     "points": 1,
     "schema_version": 3,
     "solution": false
    }
   },
   "outputs": [],
   "source": [
    "# the basic tests from the simple notebook\n",
    "from hashlib import sha1\n",
    "assert str(type(a)) == \"<class 'int'>\", \"type of a is not int. Please make sure it is int and not np.int64, etc. You can cast your value into an int using int()\"\n",
    "assert str(a) == \"5\", \"value of a is not correct\"\n",
    "\n",
    "assert str(type(b)) == \"<class 'str'>\", \"type of b is not str. b should be an str\"\n",
    "assert str(len(b)) == \"5\", \"length of b is not correct\"\n",
    "assert str(b.lower()) == \"hello\", \"value of b is not correct\"\n",
    "assert str(b) == \"hello\", \"correct string value of b but incorrect case of letters\"\n",
    "\n",
    "assert str(type(c)) == \"<class 'list'>\", \"type of c is not list. c should be a list\"\n",
    "assert str(len(c)) == \"3\", \"length of c is not correct\"\n",
    "assert str(sorted(map(str, c))) == \"['1', '2', 'test']\", \"values of c are not correct\"\n",
    "assert str(c) == \"[1, 2, 'test']\", \"order of elements of c is not correct\"\n",
    "\n",
    "print('Success!')"
   ]
  },
  {
   "cell_type": "code",
   "execution_count": null,
   "metadata": {
    "deletable": false,
    "editable": false,
    "max_height": 100,
    "nbgrader": {
     "cell_type": "code",
     "checksum": "c46928757ed303ce204ef97299b39f82",
     "grade": true,
     "grade_id": "cell-f2803ba7c42d03ab",
     "locked": true,
     "points": 1,
     "schema_version": 3,
     "solution": false,
     "task": false
    }
   },
   "outputs": [],
   "source": [
    "# multiple expressions per line\n",
    "from hashlib import sha1\n",
    "assert str(type(a)) == \"<class 'int'>\", \"type of type(a) is not correct\"\n",
    "\n",
    "assert str(type(str(a))) == \"<class 'str'>\", \"type of str(a) is not str. str(a) should be an str\"\n",
    "assert str(len(str(a))) == \"1\", \"length of str(a) is not correct\"\n",
    "assert str(str(a).lower()) == \"5\", \"value of str(a) is not correct\"\n",
    "assert str(str(a)) == \"5\", \"correct string value of str(a) but incorrect case of letters\"\n",
    "\n",
    "assert str(type(a == \"5\")) == \"<class 'bool'>\", \"type of a == \\\"5\\\" is not bool. a == \\\"5\\\" should be a bool\"\n",
    "assert str(a == \"5\") == \"False\", \"boolean value of a == \\\"5\\\" is not correct\"\n",
    "\n",
    "assert str(type([ch for ch in b])) == \"<class 'list'>\", \"type of [ch for ch in b] is not list. [ch for ch in b] should be a list\"\n",
    "assert str(len([ch for ch in b])) == \"5\", \"length of [ch for ch in b] is not correct\"\n",
    "assert str(sorted(map(str, [ch for ch in b]))) == \"['e', 'h', 'l', 'l', 'o']\", \"values of [ch for ch in b] are not correct\"\n",
    "assert str([ch for ch in b]) == \"['h', 'e', 'l', 'l', 'o']\", \"order of elements of [ch for ch in b] is not correct\"\n",
    "\n",
    "assert str(type(len(c))) == \"<class 'int'>\", \"type of len(c) is not int. Please make sure it is int and not np.int64, etc. You can cast your value into an int using int()\"\n",
    "assert str(len(c)) == \"3\", \"value of len(c) is not correct\"\n",
    "\n",
    "assert str(type(a)) == \"<class 'int'>\", \"type of a is not int. Please make sure it is int and not np.int64, etc. You can cast your value into an int using int()\"\n",
    "assert str(a) == \"5\", \"value of a is not correct\"\n",
    "\n",
    "\n",
    "# intervening regular code\n",
    "print(\"hello!\")\n",
    "\n",
    "# differing spacings, numbers of comment characters, trailing whitespace\n",
    "assert str(type(a)) == \"<class 'int'>\", \"type of a is not int. Please make sure it is int and not np.int64, etc. You can cast your value into an int using int()\"\n",
    "assert str(a) == \"5\", \"value of a is not correct\"\n",
    "\n",
    "assert str(type(a)) == \"<class 'int'>\", \"type of a is not int. Please make sure it is int and not np.int64, etc. You can cast your value into an int using int()\"\n",
    "assert str(a) == \"5\", \"value of a is not correct\"\n",
    "\n",
    "assert str(type(a)) == \"<class 'int'>\", \"type of a is not int. Please make sure it is int and not np.int64, etc. You can cast your value into an int using int()\"\n",
    "assert str(a) == \"5\", \"value of a is not correct\"\n",
    "\n",
    "assert str(type(a)) == \"<class 'int'>\", \"type of a is not int. Please make sure it is int and not np.int64, etc. You can cast your value into an int using int()\"\n",
    "assert str(a) == \"5\", \"value of a is not correct\"\n",
    "\n",
    "assert str(type(a)) == \"<class 'int'>\", \"type of a is not int. Please make sure it is int and not np.int64, etc. You can cast your value into an int using int()\"\n",
    "assert str(a) == \"5\", \"value of a is not correct\"\n",
    "\n",
    "assert str(type(a)) == \"<class 'int'>\", \"type of a is not int. Please make sure it is int and not np.int64, etc. You can cast your value into an int using int()\"\n",
    "assert str(a) == \"5\", \"value of a is not correct\"\n",
    "\n",
    "\n",
    "\n",
    "print('Success!')"
   ]
  },
  {
   "cell_type": "code",
   "execution_count": null,
   "metadata": {
    "deletable": false,
    "editable": false,
    "max_height": 100,
    "nbgrader": {
     "cell_type": "code",
     "checksum": "2fc8066fae8e7aeb865116c88d1be31a",
     "grade": true,
     "grade_id": "cell-693350420ec62f1b",
     "locked": true,
     "points": 1,
     "schema_version": 3,
     "solution": false,
     "task": false
    }
   },
   "outputs": [],
   "source": [
    "# a few common types\n",
    "from hashlib import sha1\n",
    "assert str(type(a)) == \"<class 'int'>\", \"type of a is not int. Please make sure it is int and not np.int64, etc. You can cast your value into an int using int()\"\n",
    "assert str(a) == \"5\", \"value of a is not correct\"\n",
    "\n",
    "assert str(type(b)) == \"<class 'str'>\", \"type of b is not str. b should be an str\"\n",
    "assert str(len(b)) == \"5\", \"length of b is not correct\"\n",
    "assert str(b.lower()) == \"hello\", \"value of b is not correct\"\n",
    "assert str(b) == \"hello\", \"correct string value of b but incorrect case of letters\"\n",
    "\n",
    "assert str(type(c)) == \"<class 'list'>\", \"type of c is not list. c should be a list\"\n",
    "assert str(len(c)) == \"3\", \"length of c is not correct\"\n",
    "assert str(sorted(map(str, c))) == \"['1', '2', 'test']\", \"values of c are not correct\"\n",
    "assert str(c) == \"[1, 2, 'test']\", \"order of elements of c is not correct\"\n",
    "\n",
    "assert str(type(d)) == \"<class 'dict'>\", \"type of d is not dict. d should be a dict\"\n",
    "assert str(len(list(d.keys()))) == \"2\", \"number of keys of d is not correct\"\n",
    "assert str(sorted(map(str, d.keys()))) == \"['3', 'a']\", \"keys of d are not correct\"\n",
    "assert str(sorted(map(str, d.values()))) == \"['[1.2, 3]', 'f']\", \"correct keys, but values of d are not correct\"\n",
    "assert str(d) == \"{'a': 'f', 3: [1.2, 3]}\", \"correct keys and values, but incorrect correspondence in keys and values of d\"\n",
    "\n",
    "assert str(type(e)) == \"<class 'tuple'>\", \"type of e is not tuple. e should be a tuple\"\n",
    "assert str(len(e)) == \"3\", \"length of e is not correct\"\n",
    "assert str(sorted(map(str, e))) == \"['-3.3', '5', 'd']\", \"values of e are not correct\"\n",
    "assert str(e) == \"(5, -3.3, 'd')\", \"order of elements of e is not correct\"\n",
    "\n",
    "assert str(type(f)) == \"<class 'bool'>\", \"type of f is not bool. f should be a bool\"\n",
    "assert str(f) == \"False\", \"boolean value of f is not correct\"\n",
    "\n",
    "print('Success!')"
   ]
  },
  {
   "cell_type": "code",
   "execution_count": null,
   "metadata": {
    "deletable": false,
    "editable": false,
    "max_height": 100,
    "nbgrader": {
     "cell_type": "code",
     "checksum": "cc9122036c0a86a93446786109a3558e",
     "grade": true,
     "grade_id": "cell-13479eb0e5fff152",
     "locked": true,
     "points": 1,
     "schema_version": 3,
     "solution": false,
     "task": false
    }
   },
   "outputs": [],
   "source": [
    "\n",
    "# a function that checks whether a function throws an error\n",
    "\"\"\"Check that squares raises an error for invalid inputs\"\"\"\n",
    "def test_func_throws(func, ErrorType):\n",
    "    try:\n",
    "        func()\n",
    "    except ErrorType:\n",
    "        return True\n",
    "    else:\n",
    "        print('Did not raise right type of error!')\n",
    "        return False\n",
    "\n",
    "# test a custom function\n",
    "from hashlib import sha1\n",
    "assert str(type(fun(3))) == \"<class 'int'>\", \"type of fun(3) is not int. Please make sure it is int and not np.int64, etc. You can cast your value into an int using int()\"\n",
    "assert str(fun(3)) == \"3\", \"value of fun(3) is not correct\"\n",
    "\n",
    "assert str(type(test_func_throws(lambda : fun(-4), ValueError))) == \"<class 'bool'>\", \"type of test_func_throws(lambda : fun(-4), ValueError) is not bool. test_func_throws(lambda : fun(-4), ValueError) should be a bool\"\n",
    "assert str(test_func_throws(lambda : fun(-4), ValueError)) == \"True\", \"boolean value of test_func_throws(lambda : fun(-4), ValueError) is not correct\"\n",
    "\n",
    "assert str(type(test_func_throws(lambda : fun(0), ValueError))) == \"<class 'bool'>\", \"type of test_func_throws(lambda : fun(0), ValueError) is not bool. test_func_throws(lambda : fun(0), ValueError) should be a bool\"\n",
    "assert str(test_func_throws(lambda : fun(0), ValueError)) == \"False\", \"boolean value of test_func_throws(lambda : fun(0), ValueError) is not correct\"\n",
    "\n",
    "\n",
    "print('Success!')"
   ]
  }
 ],
 "metadata": {
  "kernelspec": {
   "display_name": "Python 3 (ipykernel)",
   "language": "python",
   "name": "python3"
  },
  "language_info": {
   "codemirror_mode": {
    "name": "ipython",
    "version": 3
   },
   "file_extension": ".py",
   "mimetype": "text/x-python",
   "name": "python",
   "nbconvert_exporter": "python",
   "pygments_lexer": "ipython3",
   "version": "3.8.10"
  }
 },
 "nbformat": 4,
 "nbformat_minor": 1
}
