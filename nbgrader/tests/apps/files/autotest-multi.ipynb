{
 "cells": [
  {
   "cell_type": "code",
   "execution_count": 3,
   "metadata": {
    "nbgrader": {
     "grade": false,
     "grade_id": "soln",
     "locked": false,
     "schema_version": 3,
     "solution": true
    }
   },
   "outputs": [],
   "source": [
    "### BEGIN SOLUTION\n",
    "a = 5\n",
    "b = \"hello\"\n",
    "c = [1, 2, \"test\"]\n",
    "d = {\"a\" : \"f\", 3 : [1.2, 3]}\n",
    "e = (5, -3.3, \"d\")\n",
    "f = False\n",
    "def fun(x):\n",
    "    if x < 0:\n",
    "        raise ValueError\n",
    "    else:\n",
    "        return x\n",
    "### END SOLUTION"
   ]
  },
  {
   "cell_type": "code",
   "execution_count": null,
   "metadata": {
    "nbgrader": {
     "grade": true,
     "grade_id": "test_multi",
     "locked": false,
     "points": 1,
     "schema_version": 3,
     "solution": false
    }
   },
   "outputs": [],
   "source": [
    "# the basic tests from the simple notebook\n",
    "### AUTOTEST a\n",
    "### AUTOTEST b\n",
    "### AUTOTEST c"
   ]
  },
  {
   "cell_type": "code",
   "execution_count": null,
   "metadata": {
    "nbgrader": {
     "grade": true,
     "grade_id": "cell-f2803ba7c42d03ab",
     "locked": true,
     "points": 1,
     "schema_version": 3,
     "solution": false,
     "task": false
    }
   },
   "outputs": [],
   "source": [
    "# multiple expressions per line\n",
    "### AUTOTEST type(a); str(a); a == \"5\";\n",
    "### AUTOTEST [ch for ch in b]; len(c);\n",
    "### AUTOTEST a;\n",
    "\n",
    "# intervening regular code\n",
    "print(\"hello!\")\n",
    "\n",
    "# differing spacings, numbers of comment characters, trailing whitespace\n",
    "### AUTOTEST a                        \n",
    "#AUTOTEST a\n",
    "# AUTOTEST a\n",
    "## AUTOTEST a\n",
    "#        AUTOTEST a\n",
    "# # # # AUTOTEST a\n",
    "\n"
   ]
  },
  {
   "cell_type": "code",
   "execution_count": null,
   "metadata": {
    "nbgrader": {
     "grade": true,
     "grade_id": "cell-693350420ec62f1b",
     "locked": true,
     "points": 1,
     "schema_version": 3,
     "solution": false,
     "task": false
    }
   },
   "outputs": [],
   "source": [
    "# a few common types\n",
    "### AUTOTEST a; b; c; d; e; f;"
   ]
  },
  {
   "cell_type": "code",
   "execution_count": null,
   "metadata": {
    "nbgrader": {
     "grade": true,
     "grade_id": "cell-13479eb0e5fff152",
     "locked": true,
     "points": 1,
     "schema_version": 3,
     "solution": false,
     "task": false
    }
   },
   "outputs": [],
   "source": [
    "\n",
    "# a function that checks whether a function throws an error\n",
    "\"\"\"Check that squares raises an error for invalid inputs\"\"\"\n",
    "def test_func_throws(func, ErrorType):\n",
    "    try:\n",
    "        func()\n",
    "    except ErrorType:\n",
    "        return True\n",
    "    else:\n",
    "        print('Did not raise right type of error!')\n",
    "        return False\n",
    "\n",
    "# test a custom function\n",
    "### AUTOTEST fun(3)\n",
    "### AUTOTEST test_func_throws(lambda : fun(-4), ValueError)\n",
    "### AUTOTEST test_func_throws(lambda : fun(0), ValueError)\n"
   ]
  }
 ],
 "metadata": {
  "celltoolbar": "Create Assignment",
  "kernelspec": {
   "display_name": "Python 3",
   "language": "python",
   "name": "python3"
  },
  "language_info": {
   "codemirror_mode": {
    "name": "ipython",
    "version": 3
   },
   "file_extension": ".py",
   "mimetype": "text/x-python",
   "name": "python",
   "nbconvert_exporter": "python",
   "pygments_lexer": "ipython3",
   "version": "3.8.10"
  }
 },
 "nbformat": 4,
 "nbformat_minor": 1
}
