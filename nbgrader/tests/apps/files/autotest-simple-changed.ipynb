{
 "cells": [
  {
   "cell_type": "markdown",
   "metadata": {},
   "source": [
    "Create a variable named `a` with value `5`, a variable `b` with value `\"hello\"`, and a variable `c` with value `[1, 2, \"test\"]`."
   ]
  },
  {
   "cell_type": "code",
   "execution_count": null,
   "metadata": {
    "deletable": false,
    "nbgrader": {
     "cell_type": "code",
     "checksum": "e0106b7b1e000112c4ce2c8f8fa64ed1",
     "grade": false,
     "grade_id": "soln",
     "locked": false,
     "schema_version": 3,
     "solution": true
    }
   },
   "outputs": [],
   "source": [
    "# YOUR CODE HERE\n",
    "a = 5\n",
    "b = \"hello\"\n",
    "c = [1, 2, \"test\"]"
   ]
  },
  {
   "cell_type": "code",
   "execution_count": null,
   "metadata": {
    "deletable": false,
    "editable": false,
    "max_height": 100,
    "nbgrader": {
     "cell_type": "code",
     "checksum": "f1736680e92dee1b5debd87ec5790f10",
     "grade": true,
     "grade_id": "test_simple",
     "locked": false,
     "points": 1,
     "schema_version": 3,
     "solution": false
    }
   },
   "outputs": [],
   "source": [
    "from hashlib import sha1\n",
    "assert str(type(a)) == \"<class 'int'>\", \"type of a is not int. Please make sure it is int and not np.int64, etc. You can cast your value into an int using int()\"\n",
    "assert str(a) == \"5\", \"value of a is not correct\"\n",
    "\n",
    "assert str(type(b)) == \"<class 'str'>\", \"type of b is not str. b should be an str\"\n",
    "assert str(len(b)) == \"5\", \"length of b is not correct\"\n",
    "assert str(b.lower()) == \"hello\", \"value of b is not correct\"\n",
    "assert str(b) == \"hello\", \"correct string value of b but incorrect case of letters\"\n",
    "\n",
    "assert str(type(c)) == \"<class 'list'>\", \"type of c is not list. c should be a list\"\n",
    "assert str(len(c)) == \"3\", \"length of c is not correct\"\n",
    "assert str(sorted(map(str, c))) == \"['1', '2', 'test']\", \"values of c are not correct\"\n",
    "assert str(c) == \"[1, 2, 'test']\", \"order of elements of c is not correct\"\n",
    "\n",
    "print('Success!')"
   ]
  }
 ],
 "metadata": {
  "kernelspec": {
   "display_name": "Python 3 (ipykernel)",
   "language": "python",
   "name": "python3"
  },
  "language_info": {
   "codemirror_mode": {
    "name": "ipython",
    "version": 3
   },
   "file_extension": ".py",
   "mimetype": "text/x-python",
   "name": "python",
   "nbconvert_exporter": "python",
   "pygments_lexer": "ipython3",
   "version": "3.8.10"
  }
 },
 "nbformat": 4,
 "nbformat_minor": 1
}
