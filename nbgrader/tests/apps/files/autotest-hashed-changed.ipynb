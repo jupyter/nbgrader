{
 "cells": [
  {
   "cell_type": "markdown",
   "metadata": {},
   "source": [
    "Create a variable named `a` with value `5`, a variable `b` with value `\"hello\"`, and a variable `c` with value `[1, 2, \"test\"]`."
   ]
  },
  {
   "cell_type": "code",
   "execution_count": null,
   "metadata": {
    "deletable": false,
    "nbgrader": {
     "cell_type": "code",
     "checksum": "e0106b7b1e000112c4ce2c8f8fa64ed1",
     "grade": false,
     "grade_id": "soln",
     "locked": false,
     "schema_version": 3,
     "solution": true
    }
   },
   "outputs": [],
   "source": [
    "# YOUR CODE HERE\n",
    "a = 5\n",
    "b = \"hello\"\n",
    "c = [1, 2, \"test\"]"
   ]
  },
  {
   "cell_type": "code",
   "execution_count": null,
   "metadata": {
    "deletable": false,
    "editable": false,
    "max_height": 100,
    "nbgrader": {
     "cell_type": "code",
     "checksum": "a0a263f3cd77437ecaaaa68ffd10ca2f",
     "grade": true,
     "grade_id": "test_hashed",
     "locked": false,
     "points": 1,
     "schema_version": 3,
     "solution": false
    }
   },
   "outputs": [],
   "source": [
    "from hashlib import sha1\n",
    "assert sha1(str(type(a)).encode(\"utf-8\")+b\"9231f34cdc3da9ea\").hexdigest() == \"659113e142e34b819add5d3c95d33a1cf10a09ae\", \"type of a is not int. Please make sure it is int and not np.int64, etc. You can cast your value into an int using int()\"\n",
    "assert sha1(str(a).encode(\"utf-8\")+b\"9231f34cdc3da9ea\").hexdigest() == \"455510a3efa0017fa35841cd77fb1554ee665d0a\", \"value of a is not correct\"\n",
    "\n",
    "assert sha1(str(type(b)).encode(\"utf-8\")+b\"13937391b113e128\").hexdigest() == \"a7a6d540df4104f3adb629c5c3ea3c7c461eaa6f\", \"type of b is not str. b should be an str\"\n",
    "assert sha1(str(len(b)).encode(\"utf-8\")+b\"13937391b113e128\").hexdigest() == \"b8eda0d698f28aedc80f0f318c35af3447c18f29\", \"length of b is not correct\"\n",
    "assert sha1(str(b.lower()).encode(\"utf-8\")+b\"13937391b113e128\").hexdigest() == \"2755a4e47f3b60f679787659f804488276ec718e\", \"value of b is not correct\"\n",
    "assert sha1(str(b).encode(\"utf-8\")+b\"13937391b113e128\").hexdigest() == \"2755a4e47f3b60f679787659f804488276ec718e\", \"correct string value of b but incorrect case of letters\"\n",
    "\n",
    "assert sha1(str(type(c)).encode(\"utf-8\")+b\"e33308cee3b48f12\").hexdigest() == \"2da3504fe36c50ab1d44ffb61bd4a02af8f0fdbd\", \"type of c is not list. c should be a list\"\n",
    "assert sha1(str(len(c)).encode(\"utf-8\")+b\"e33308cee3b48f12\").hexdigest() == \"5f8b7c79f0b7ee5fafa410947a40589acbf2b644\", \"length of c is not correct\"\n",
    "assert sha1(str(sorted(map(str, c))).encode(\"utf-8\")+b\"e33308cee3b48f12\").hexdigest() == \"10c943e426df5e88a394da50cc9cc07f6cb2fa33\", \"values of c are not correct\"\n",
    "assert sha1(str(c).encode(\"utf-8\")+b\"e33308cee3b48f12\").hexdigest() == \"c538ca013d170994051b3d55fb2c488d2fadb776\", \"order of elements of c is not correct\"\n",
    "\n",
    "\n",
    "# differing spacings, num comment characters, trailing whitespace\n",
    "assert sha1(str(type(a)).encode(\"utf-8\")+b\"cfe4dae897378d1a\").hexdigest() == \"463fc87d8b90bcf558e04b5bff454d0fe10f0447\", \"type of a is not int. Please make sure it is int and not np.int64, etc. You can cast your value into an int using int()\"\n",
    "assert sha1(str(a).encode(\"utf-8\")+b\"cfe4dae897378d1a\").hexdigest() == \"586e477f328cc5e3c852148517751d072d36afee\", \"value of a is not correct\"\n",
    "\n",
    "assert sha1(str(type(a)).encode(\"utf-8\")+b\"ec2be017656b8d95\").hexdigest() == \"2abb3c781a9ed14b1dec5a00736dc170f3301ce2\", \"type of a is not int. Please make sure it is int and not np.int64, etc. You can cast your value into an int using int()\"\n",
    "assert sha1(str(a).encode(\"utf-8\")+b\"ec2be017656b8d95\").hexdigest() == \"b86b5db1c86084688de67ed5b3e2001206365a44\", \"value of a is not correct\"\n",
    "\n",
    "assert sha1(str(type(a)).encode(\"utf-8\")+b\"da663014407e8b68\").hexdigest() == \"4c5e40a4f0ec62a3dbf5232e9d22faba40b1d394\", \"type of a is not int. Please make sure it is int and not np.int64, etc. You can cast your value into an int using int()\"\n",
    "assert sha1(str(a).encode(\"utf-8\")+b\"da663014407e8b68\").hexdigest() == \"419c839a51a681a8fe1bd658d02c285ab657a1ef\", \"value of a is not correct\"\n",
    "\n",
    "assert sha1(str(type(a)).encode(\"utf-8\")+b\"f97fab4e29c2f008\").hexdigest() == \"21248e96318cac95a37157dcded2b3e9b3778668\", \"type of a is not int. Please make sure it is int and not np.int64, etc. You can cast your value into an int using int()\"\n",
    "assert sha1(str(a).encode(\"utf-8\")+b\"f97fab4e29c2f008\").hexdigest() == \"0e27de567679deef32bd63ebd416cb835db76ba4\", \"value of a is not correct\"\n",
    "\n",
    "assert sha1(str(type(a)).encode(\"utf-8\")+b\"72eea5ecf1bd1e19\").hexdigest() == \"6008755168651743936153fa68a21c1c4369b61a\", \"type of a is not int. Please make sure it is int and not np.int64, etc. You can cast your value into an int using int()\"\n",
    "assert sha1(str(a).encode(\"utf-8\")+b\"72eea5ecf1bd1e19\").hexdigest() == \"b5d66cbe4aaaaf8a45e1ceef0e2e03f70fcefa59\", \"value of a is not correct\"\n",
    "\n",
    "assert sha1(str(type(a)).encode(\"utf-8\")+b\"93205c8cd03cafd5\").hexdigest() == \"2292f651355b47a594a97fe2e04253414aefe4bd\", \"type of a is not int. Please make sure it is int and not np.int64, etc. You can cast your value into an int using int()\"\n",
    "assert sha1(str(a).encode(\"utf-8\")+b\"93205c8cd03cafd5\").hexdigest() == \"f5eba7f0391b94b32a57691d8f982659d50fbf9f\", \"value of a is not correct\"\n",
    "\n",
    "print('Success!')"
   ]
  }
 ],
 "metadata": {
  "kernelspec": {
   "display_name": "Python 3 (ipykernel)",
   "language": "python",
   "name": "python3"
  },
  "language_info": {
   "codemirror_mode": {
    "name": "ipython",
    "version": 3
   },
   "file_extension": ".py",
   "mimetype": "text/x-python",
   "name": "python",
   "nbconvert_exporter": "python",
   "pygments_lexer": "ipython3",
   "version": "3.8.10"
  }
 },
 "nbformat": 4,
 "nbformat_minor": 1
}
