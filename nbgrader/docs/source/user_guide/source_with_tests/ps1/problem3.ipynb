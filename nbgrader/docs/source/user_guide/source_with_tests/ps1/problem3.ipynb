{
 "cells": [
  {
   "cell_type": "markdown",
   "metadata": {
    "nbgrader": {
     "grade": false,
     "grade_id": "jupyter",
     "locked": true,
     "schema_version": 3,
     "solution": false
    }
   },
   "source": [
    "For this problem set, we'll be using the Jupyter notebook:\n",
    "\n",
    "![](jupyter.png)"
   ]
  },
  {
   "cell_type": "markdown",
   "metadata": {},
   "source": [
    "---\n",
    "## Part A (2 points)\n",
    "\n",
    "Write a function that returns a list of numbers, such that $x_i=i^2$, for $1\\leq i \\leq n$. Make sure it handles the case where $n<1$ by raising a `ValueError`."
   ]
  },
  {
   "cell_type": "code",
   "execution_count": null,
   "metadata": {
    "nbgrader": {
     "grade": false,
     "grade_id": "squares",
     "locked": false,
     "schema_version": 3,
     "solution": true
    },
    "vscode": {
     "languageId": "python"
    }
   },
   "outputs": [],
   "source": [
    "def squares(n):\n",
    "    \"\"\"Compute the squares of numbers from 1 to n, such that the \n",
    "    ith element of the returned list equals i^2.\n",
    "    \n",
    "    \"\"\"\n",
    "    ### BEGIN SOLUTION\n",
    "    if n < 1:\n",
    "        raise ValueError(\"n must be greater than or equal to 1\")\n",
    "    return [i ** 2 for i in range(1, n + 1)]\n",
    "    ### END SOLUTION"
   ]
  },
  {
   "cell_type": "markdown",
   "metadata": {},
   "source": [
    "Your function should print `[1, 4, 9, 16, 25, 36, 49, 64, 81, 100]` for $n=10$. Check that it does:"
   ]
  },
  {
   "cell_type": "code",
   "execution_count": null,
   "metadata": {
    "vscode": {
     "languageId": "python"
    }
   },
   "outputs": [],
   "source": [
    "squares(10)"
   ]
  },
  {
   "cell_type": "code",
   "execution_count": null,
   "metadata": {
    "nbgrader": {
     "grade": true,
     "grade_id": "correct_squares",
     "locked": false,
     "points": 1,
     "schema_version": 3,
     "solution": false
    },
    "vscode": {
     "languageId": "python"
    }
   },
   "outputs": [],
   "source": [
    "\"\"\"Check that squares returns the correct output for several inputs\"\"\"\n",
    "from hashlib import sha1\n",
    "assert str(type(squares(1))) == \"\"\"<class 'list'>\"\"\", \"\"\"type of squares(1) is not list. squares(1) should be a list\"\"\"\n",
    "assert str(len(squares(1))) == \"\"\"1\"\"\", \"\"\"length of squares(1) is not correct\"\"\"\n",
    "assert str(sorted(map(str, squares(1)))) == \"\"\"['1']\"\"\", \"\"\"values of squares(1) are not correct\"\"\"\n",
    "assert str(squares(1)) == \"\"\"[1]\"\"\", \"\"\"order of elements of squares(1) is not correct\"\"\"\n",
    "\n",
    "assert str(type(squares(2))) == \"\"\"<class 'list'>\"\"\", \"\"\"type of squares(2) is not list. squares(2) should be a list\"\"\"\n",
    "assert str(len(squares(2))) == \"\"\"2\"\"\", \"\"\"length of squares(2) is not correct\"\"\"\n",
    "assert str(sorted(map(str, squares(2)))) == \"\"\"['1', '4']\"\"\", \"\"\"values of squares(2) are not correct\"\"\"\n",
    "assert str(squares(2)) == \"\"\"[1, 4]\"\"\", \"\"\"order of elements of squares(2) is not correct\"\"\"\n",
    "\n",
    "assert sha1(str(type(squares(3))).encode(\"utf-8\")+b\"88ffb547eac14d93\").hexdigest() == \"\"\"952350db81d1d714094250ac6fe0ad5e7114490e\"\"\", \"\"\"type of squares(3) is not list. squares(3) should be a list\"\"\"\n",
    "assert sha1(str(len(squares(3))).encode(\"utf-8\")+b\"88ffb547eac14d93\").hexdigest() == \"\"\"0028b3b04351fb2909f795ae5fcba15846f9977c\"\"\", \"\"\"length of squares(3) is not correct\"\"\"\n",
    "assert sha1(str(sorted(map(str, squares(3)))).encode(\"utf-8\")+b\"88ffb547eac14d93\").hexdigest() == \"\"\"aabf7ee82847b93c3dc5903ec8235c10e03c9241\"\"\", \"\"\"values of squares(3) are not correct\"\"\"\n",
    "assert sha1(str(squares(3)).encode(\"utf-8\")+b\"88ffb547eac14d93\").hexdigest() == \"\"\"4ba1f7d938fe81de3643f77ea0fadb6b4b870c2a\"\"\", \"\"\"order of elements of squares(3) is not correct\"\"\"\n",
    "\n",
    "print('Success!')"
   ]
  },
  {
   "cell_type": "code",
   "execution_count": null,
   "metadata": {
    "nbgrader": {
     "grade": true,
     "grade_id": "squares_invalid_input",
     "locked": false,
     "points": 1,
     "schema_version": 3,
     "solution": false
    },
    "vscode": {
     "languageId": "python"
    }
   },
   "outputs": [],
   "source": [
    "\"\"\"Check that squares raises an error for invalid inputs\"\"\"\n",
    "def test_func_throws(func, ErrorType):\n",
    "    try:\n",
    "        func()\n",
    "    except ErrorType:\n",
    "        return True\n",
    "    else:\n",
    "        print('Did not raise right type of error!')\n",
    "        return False\n",
    "    \n",
    "from hashlib import sha1\n",
    "assert str(type(test_func_throws(lambda : squares(0), ValueError))) == \"\"\"<class 'bool'>\"\"\", \"\"\"type of test_func_throws(lambda : squares(0), ValueError) is not bool. test_func_throws(lambda : squares(0), ValueError) should be a bool\"\"\"\n",
    "assert str(test_func_throws(lambda : squares(0), ValueError)) == \"\"\"True\"\"\", \"\"\"boolean value of test_func_throws(lambda : squares(0), ValueError) is not correct\"\"\"\n",
    "\n",
    "assert str(type(test_func_throws(lambda : squares(-4), ValueError))) == \"\"\"<class 'bool'>\"\"\", \"\"\"type of test_func_throws(lambda : squares(-4), ValueError) is not bool. test_func_throws(lambda : squares(-4), ValueError) should be a bool\"\"\"\n",
    "assert str(test_func_throws(lambda : squares(-4), ValueError)) == \"\"\"True\"\"\", \"\"\"boolean value of test_func_throws(lambda : squares(-4), ValueError) is not correct\"\"\"\n",
    "\n",
    "\n",
    "print('Success!')"
   ]
  },
  {
   "cell_type": "markdown",
   "metadata": {},
   "source": [
    "---\n",
    "\n",
    "## Part B (1 point)\n",
    "\n",
    "Using your `squares` function, write a function that computes the sum of the squares of the numbers from 1 to $n$. Your function should call the `squares` function -- it should NOT reimplement its functionality."
   ]
  },
  {
   "cell_type": "code",
   "execution_count": null,
   "metadata": {
    "nbgrader": {
     "grade": false,
     "grade_id": "sum_of_squares",
     "locked": false,
     "schema_version": 3,
     "solution": true
    },
    "vscode": {
     "languageId": "python"
    }
   },
   "outputs": [],
   "source": [
    "def sum_of_squares(n):\n",
    "    \"\"\"Compute the sum of the squares of numbers from 1 to n.\"\"\"\n",
    "    ### BEGIN SOLUTION\n",
    "    return sum(squares(n))\n",
    "    ### END SOLUTION"
   ]
  },
  {
   "cell_type": "markdown",
   "metadata": {},
   "source": [
    "The sum of squares from 1 to 10 should be 385. Verify that this is the answer you get:"
   ]
  },
  {
   "cell_type": "code",
   "execution_count": null,
   "metadata": {
    "vscode": {
     "languageId": "python"
    }
   },
   "outputs": [],
   "source": [
    "sum_of_squares(10)"
   ]
  },
  {
   "cell_type": "code",
   "execution_count": null,
   "metadata": {
    "nbgrader": {
     "grade": true,
     "grade_id": "correct_sum_of_squares",
     "locked": false,
     "points": 0.5,
     "schema_version": 3,
     "solution": false
    },
    "vscode": {
     "languageId": "python"
    }
   },
   "outputs": [],
   "source": [
    "\"\"\"Check that sum_of_squares returns the correct answer for various inputs.\"\"\"\n",
    "from hashlib import sha1\n",
    "assert str(type(sum_of_squares(1))) == \"\"\"<class 'int'>\"\"\", \"\"\"type of sum_of_squares(1) is not int. Please make sure it is int and not np.int64, etc. You can cast your value into an int using int()\"\"\"\n",
    "assert str(sum_of_squares(1)) == \"\"\"1\"\"\", \"\"\"value of sum_of_squares(1) is not correct\"\"\"\n",
    "\n",
    "assert str(type(sum_of_squares(2))) == \"\"\"<class 'int'>\"\"\", \"\"\"type of sum_of_squares(2) is not int. Please make sure it is int and not np.int64, etc. You can cast your value into an int using int()\"\"\"\n",
    "assert str(sum_of_squares(2)) == \"\"\"5\"\"\", \"\"\"value of sum_of_squares(2) is not correct\"\"\"\n",
    "\n",
    "assert str(type(sum_of_squares(10))) == \"\"\"<class 'int'>\"\"\", \"\"\"type of sum_of_squares(10) is not int. Please make sure it is int and not np.int64, etc. You can cast your value into an int using int()\"\"\"\n",
    "assert str(sum_of_squares(10)) == \"\"\"385\"\"\", \"\"\"value of sum_of_squares(10) is not correct\"\"\"\n",
    "\n",
    "assert str(type(sum_of_squares(11))) == \"\"\"<class 'int'>\"\"\", \"\"\"type of sum_of_squares(11) is not int. Please make sure it is int and not np.int64, etc. You can cast your value into an int using int()\"\"\"\n",
    "assert str(sum_of_squares(11)) == \"\"\"506\"\"\", \"\"\"value of sum_of_squares(11) is not correct\"\"\"\n",
    "\n",
    "\n",
    "print('Success!')"
   ]
  },
  {
   "cell_type": "code",
   "execution_count": null,
   "metadata": {
    "nbgrader": {
     "grade": true,
     "grade_id": "sum_of_squares_uses_squares",
     "locked": false,
     "points": 0.5,
     "schema_version": 3,
     "solution": false
    },
    "vscode": {
     "languageId": "python"
    }
   },
   "outputs": [],
   "source": [
    "\"\"\"Check that sum_of_squares relies on squares.\"\"\"\n",
    "\n",
    "orig_squares = squares\n",
    "del squares\n",
    "\n",
    "from hashlib import sha1\n",
    "assert str(type(test_func_throws(lambda : sum_of_squares(1), NameError))) == \"\"\"<class 'bool'>\"\"\", \"\"\"type of test_func_throws(lambda : sum_of_squares(1), NameError) is not bool. test_func_throws(lambda : sum_of_squares(1), NameError) should be a bool\"\"\"\n",
    "assert str(test_func_throws(lambda : sum_of_squares(1), NameError)) == \"\"\"True\"\"\", \"\"\"boolean value of test_func_throws(lambda : sum_of_squares(1), NameError) is not correct\"\"\"\n",
    "\n",
    "\n",
    "squares = orig_squares\n",
    "\n",
    "print('Success!')"
   ]
  },
  {
   "cell_type": "markdown",
   "metadata": {},
   "source": [
    "---\n",
    "## Part C (1 point)\n",
    "\n",
    "Using LaTeX math notation, write out the equation that is implemented by your `sum_of_squares` function."
   ]
  },
  {
   "cell_type": "markdown",
   "metadata": {
    "nbgrader": {
     "grade": true,
     "grade_id": "sum_of_squares_equation",
     "locked": false,
     "points": 1,
     "schema_version": 3,
     "solution": true
    }
   },
   "source": [
    "$\\sum_{i=1}^n i^2$"
   ]
  },
  {
   "cell_type": "markdown",
   "metadata": {},
   "source": [
    "---\n",
    "## Part D (2 points)\n",
    "\n",
    "Find a usecase for your `sum_of_squares` function and implement that usecase in the cell below."
   ]
  },
  {
   "cell_type": "code",
   "execution_count": null,
   "metadata": {
    "nbgrader": {
     "grade": true,
     "grade_id": "sum_of_squares_application",
     "locked": false,
     "points": 2,
     "schema_version": 3,
     "solution": true
    },
    "vscode": {
     "languageId": "python"
    }
   },
   "outputs": [],
   "source": [
    "def pyramidal_number(n):\n",
    "    \"\"\"Returns the n^th pyramidal number\"\"\"\n",
    "    return sum_of_squares(n)"
   ]
  },
  {
   "cell_type": "markdown",
   "metadata": {
    "nbgrader": {
     "grade": false,
     "grade_id": "cell-938593c4a215c6cc",
     "locked": true,
     "points": 4,
     "schema_version": 3,
     "solution": false,
     "task": true
    }
   },
   "source": [
    "---\n",
    "## Part E (4 points)\n",
    "\n",
    "State the formulae for an arithmetic and geometric sum and verify them numerically for an example of your choice."
   ]
  },
  {
   "cell_type": "markdown",
   "metadata": {},
   "source": [
    "---\n",
    "## Part F (1 points)"
   ]
  },
  {
   "cell_type": "code",
   "execution_count": null,
   "metadata": {
    "nbgrader": {
     "grade": false,
     "grade_id": "cell-d3df8cd59fd0eb74",
     "locked": false,
     "schema_version": 3,
     "solution": true,
     "task": false
    },
    "vscode": {
     "languageId": "python"
    }
   },
   "outputs": [],
   "source": [
    "my_dictionary = {\n",
    "    'one'   : 1,\n",
    "    'two'   : 2,\n",
    "    'three' : 3\n",
    "}"
   ]
  },
  {
   "cell_type": "code",
   "execution_count": null,
   "metadata": {
    "nbgrader": {
     "grade": true,
     "grade_id": "cell-6e9ff83aa5dfaf17",
     "locked": true,
     "points": 0,
     "schema_version": 3,
     "solution": false,
     "task": false
    },
    "vscode": {
     "languageId": "python"
    }
   },
   "outputs": [],
   "source": [
    "from hashlib import sha1\n",
    "assert str(type(my_dictionary)) == \"\"\"<class 'dict'>\"\"\", \"\"\"type of my_dictionary is not dict. my_dictionary should be a dict\"\"\"\n",
    "assert str(len(list(my_dictionary.keys()))) == \"\"\"3\"\"\", \"\"\"number of keys of my_dictionary is not correct\"\"\"\n",
    "assert str(sorted(map(str, my_dictionary.keys()))) == \"\"\"['one', 'three', 'two']\"\"\", \"\"\"keys of my_dictionary are not correct\"\"\"\n",
    "assert str(sorted(map(str, my_dictionary.values()))) == \"\"\"['1', '2', '3']\"\"\", \"\"\"correct keys, but values of my_dictionary are not correct\"\"\"\n",
    "assert str(my_dictionary) == \"\"\"{'one': 1, 'two': 2, 'three': 3}\"\"\", \"\"\"correct keys and values, but incorrect correspondence in keys and values of my_dictionary\"\"\"\n",
    "\n",
    "assert str(type(my_dictionary[\"one\"])) == \"\"\"<class 'int'>\"\"\", \"\"\"type of my_dictionary[\\\"one\\\"] is not int. Please make sure it is int and not np.int64, etc. You can cast your value into an int using int()\"\"\"\n",
    "assert str(my_dictionary[\"one\"]) == \"\"\"1\"\"\", \"\"\"value of my_dictionary[\\\"one\\\"] is not correct\"\"\"\n",
    "\n",
    "print('Success!')"
   ]
  }
 ],
 "metadata": {
  "celltoolbar": "Create Assignment",
  "kernelspec": {
   "display_name": "Python 3 (ipykernel)",
   "language": "python",
   "name": "python3"
  },
  "language_info": {
   "codemirror_mode": {
    "name": "ipython",
    "version": 3
   },
   "file_extension": ".py",
   "mimetype": "text/x-python",
   "name": "python",
   "nbconvert_exporter": "python",
   "pygments_lexer": "ipython3",
   "version": "3.9.12"
  }
 },
 "nbformat": 4,
 "nbformat_minor": 1
}
