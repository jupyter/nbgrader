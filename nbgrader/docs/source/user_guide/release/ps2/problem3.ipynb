{
 "cells": [
  {
   "cell_type": "markdown",
   "metadata": {
    "deletable": false,
    "editable": false,
    "nbgrader": {
     "cell_type": "markdown",
     "checksum": "535c21960d4663d5edac398cb445d087",
     "grade": false,
     "grade_id": "jupyter",
     "locked": true,
     "schema_version": 3,
     "solution": false
    }
   },
   "source": [
    "For this problem set, we'll be using the Jupyter notebook:\n",
    "\n",
    "![](jupyter.png)"
   ]
  },
  {
   "cell_type": "markdown",
   "metadata": {},
   "source": [
    "---\n",
    "## Part A (2 points)\n",
    "\n",
    "Write a function that returns a list of numbers, such that $x_i=i^2$, for $1\\leq i \\leq n$. Make sure it handles the case where $n<1$ by raising a `ValueError`."
   ]
  },
  {
   "cell_type": "code",
   "execution_count": null,
   "metadata": {
    "deletable": false,
    "execution": {
     "iopub.execute_input": "2022-07-28T18:48:32.423314Z",
     "iopub.status.busy": "2022-07-28T18:48:32.422638Z",
     "iopub.status.idle": "2022-07-28T18:48:32.448183Z",
     "shell.execute_reply": "2022-07-28T18:48:32.446093Z"
    },
    "nbgrader": {
     "cell_type": "code",
     "checksum": "8f1eab8d02a9520920aa06f8a86a2492",
     "grade": false,
     "grade_id": "squares",
     "locked": false,
     "schema_version": 3,
     "solution": true
    }
   },
   "outputs": [],
   "source": [
    "def squares(n):\n",
    "    \"\"\"Compute the squares of numbers from 1 to n, such that the \n",
    "    ith element of the returned list equals i^2.\n",
    "    \n",
    "    \"\"\"\n",
    "    # YOUR CODE HERE\n",
    "    raise NotImplementedError()"
   ]
  },
  {
   "cell_type": "markdown",
   "metadata": {},
   "source": [
    "Your function should print `[1, 4, 9, 16, 25, 36, 49, 64, 81, 100]` for $n=10$. Check that it does:"
   ]
  },
  {
   "cell_type": "code",
   "execution_count": null,
   "metadata": {
    "execution": {
     "iopub.execute_input": "2022-07-28T18:48:32.457446Z",
     "iopub.status.busy": "2022-07-28T18:48:32.456921Z",
     "iopub.status.idle": "2022-07-28T18:48:32.481854Z",
     "shell.execute_reply": "2022-07-28T18:48:32.480816Z"
    }
   },
   "outputs": [],
   "source": [
    "squares(10)"
   ]
  },
  {
   "cell_type": "code",
   "execution_count": null,
   "metadata": {
    "deletable": false,
    "editable": false,
    "execution": {
     "iopub.execute_input": "2022-07-28T18:48:32.523935Z",
     "iopub.status.busy": "2022-07-28T18:48:32.523799Z",
     "iopub.status.idle": "2022-07-28T18:48:32.527110Z",
     "shell.execute_reply": "2022-07-28T18:48:32.526706Z"
    },
    "max_height": 100,
    "nbgrader": {
     "cell_type": "code",
     "checksum": "726147ffa11698ecf620a1abedf86605",
     "grade": true,
     "grade_id": "correct_squares",
     "locked": false,
     "points": 1,
     "schema_version": 3,
     "solution": false
    }
   },
   "outputs": [],
   "source": [
    "\"\"\"Check that squares returns the correct output for several inputs\"\"\"\n",
    "from hashlib import sha1\n",
    "assert str(type(squares(1))) == \"<class 'list'>\", \"type of squares(1) is not list. squares(1) should be a list\"\n",
    "assert str(len(squares(1))) == \"1\", \"length of squares(1) is not correct\"\n",
    "assert str(sorted([str(element) for element in squares(1)])) == \"['1']\", \"values of squares(1) are not correct\"\n",
    "assert str(squares(1)) == \"[1]\", \"order of elements of squares(1) is not correct\"\n",
    "\n",
    "assert str(type(squares(2))) == \"<class 'list'>\", \"type of squares(2) is not list. squares(2) should be a list\"\n",
    "assert str(len(squares(2))) == \"2\", \"length of squares(2) is not correct\"\n",
    "assert str(sorted([str(element) for element in squares(2)])) == \"['1', '4']\", \"values of squares(2) are not correct\"\n",
    "assert str(squares(2)) == \"[1, 4]\", \"order of elements of squares(2) is not correct\"\n",
    "\n",
    "assert str(type(squares(15))) == \"<class 'list'>\", \"type of squares(15) is not list. squares(15) should be a list\"\n",
    "assert str(len(squares(15))) == \"15\", \"length of squares(15) is not correct\"\n",
    "assert str(sorted([str(element) for element in squares(15)])) == \"['1', '100', '121', '144', '16', '169', '196', '225', '25', '36', '4', '49', '64', '81', '9']\", \"values of squares(15) are not correct\"\n",
    "assert str(squares(15)) == \"[1, 4, 9, 16, 25, 36, 49, 64, 81, 100, 121, 144, 169, 196, 225]\", \"order of elements of squares(15) is not correct\"\n",
    "\n",
    "assert str(type(squares(10))) == \"<class 'list'>\", \"type of squares(10) is not list. squares(10) should be a list\"\n",
    "assert str(len(squares(10))) == \"10\", \"length of squares(10) is not correct\"\n",
    "assert str(sorted([str(element) for element in squares(10)])) == \"['1', '100', '16', '25', '36', '4', '49', '64', '81', '9']\", \"values of squares(10) are not correct\"\n",
    "assert str(squares(10)) == \"[1, 4, 9, 16, 25, 36, 49, 64, 81, 100]\", \"order of elements of squares(10) is not correct\"\n",
    "\n",
    "assert str(type(squares(11))) == \"<class 'list'>\", \"type of squares(11) is not list. squares(11) should be a list\"\n",
    "assert str(len(squares(11))) == \"11\", \"length of squares(11) is not correct\"\n",
    "assert str(sorted([str(element) for element in squares(11)])) == \"['1', '100', '121', '16', '25', '36', '4', '49', '64', '81', '9']\", \"values of squares(11) are not correct\"\n",
    "assert str(squares(11)) == \"[1, 4, 9, 16, 25, 36, 49, 64, 81, 100, 121]\", \"order of elements of squares(11) is not correct\"\n",
    "\n",
    "assert str(type(3)) == \"<class 'int'>\", \"type of 3 is not int. Please make sure it is int and not np.int64, etc. You can cast your value into float using int()\"\n",
    "assert str(3) == \"3\", \"value of 3 is not correct\"\n",
    "\n",
    "assert str(type(squares(3))) == \"<class 'list'>\", \"type of squares(3) is not list. squares(3) should be a list\"\n",
    "assert str(len(squares(3))) == \"3\", \"length of squares(3) is not correct\"\n",
    "assert str(sorted([str(element) for element in squares(3)])) == \"['1', '4', '9']\", \"values of squares(3) are not correct\"\n",
    "assert str(squares(3)) == \"[1, 4, 9]\", \"order of elements of squares(3) is not correct\"\n",
    "\n",
    "assert sha1(str(type(squares(3))).encode(\"utf-8\")+b\"7644209b7b90692c\").hexdigest() == \"6067c51afc748d47f1402b51fab7cbf89d3b2b15\", \"type of squares(3) is not list. squares(3) should be a list\"\n",
    "assert sha1(str(len(squares(3))).encode(\"utf-8\")+b\"7644209b7b90692c\").hexdigest() == \"a43f9eca0b8cb810ef5ab50b0102f09d152f6ab7\", \"length of squares(3) is not correct\"\n",
    "assert sha1(str(sorted([str(element) for element in squares(3)])).encode(\"utf-8\")+b\"7644209b7b90692c\").hexdigest() == \"542486ef0c30b124dac091cc6c857bec341ec4a2\", \"values of squares(3) are not correct\"\n",
    "assert sha1(str(squares(3)).encode(\"utf-8\")+b\"7644209b7b90692c\").hexdigest() == \"3ea66b0e8fbc2cbcf72aad5e5435bf26f90531d1\", \"order of elements of squares(3) is not correct\"\n",
    "\n",
    "print('Success!')"
   ]
  },
  {
   "cell_type": "code",
   "execution_count": null,
   "metadata": {
    "deletable": false,
    "editable": false,
    "execution": {
     "iopub.execute_input": "2022-07-28T18:48:32.756432Z",
     "iopub.status.busy": "2022-07-28T18:48:32.756309Z",
     "iopub.status.idle": "2022-07-28T18:48:32.758755Z",
     "shell.execute_reply": "2022-07-28T18:48:32.758302Z"
    },
    "max_height": 100,
    "nbgrader": {
     "cell_type": "code",
     "checksum": "e6fd2a95b25b2351dbd56e5ec494e742",
     "grade": true,
     "grade_id": "squares_invalid_input",
     "locked": false,
     "points": 1,
     "schema_version": 3,
     "solution": false
    }
   },
   "outputs": [],
   "source": [
    "\"\"\"Check that squares raises an error for invalid inputs\"\"\"\n",
    "def test_func_throws(func, ErrorType):\n",
    "    try:\n",
    "        func()\n",
    "    except ErrorType:\n",
    "        return True\n",
    "    else:\n",
    "        print('Did not raise right type of error!')\n",
    "        return False\n",
    "    \n",
    "from hashlib import sha1\n",
    "assert str(type(test_func_throws(lambda : squares(0), ValueError))) == \"<class 'bool'>\", \"type of test_func_throws(lambda : squares(0), ValueError) is not bool. test_func_throws(lambda : squares(0), ValueError) should be a bool\"\n",
    "assert str(test_func_throws(lambda : squares(0), ValueError)) == \"True\", \"boolean value of test_func_throws(lambda : squares(0), ValueError) is not correct\"\n",
    "\n",
    "assert str(type(test_func_throws(lambda : squares(-4), ValueError))) == \"<class 'bool'>\", \"type of test_func_throws(lambda : squares(-4), ValueError) is not bool. test_func_throws(lambda : squares(-4), ValueError) should be a bool\"\n",
    "assert str(test_func_throws(lambda : squares(-4), ValueError)) == \"True\", \"boolean value of test_func_throws(lambda : squares(-4), ValueError) is not correct\"\n",
    "\n",
    "\n",
    "print('Success!')"
   ]
  },
  {
   "cell_type": "markdown",
   "metadata": {},
   "source": [
    "---\n",
    "\n",
    "## Part B (1 point)\n",
    "\n",
    "Using your `squares` function, write a function that computes the sum of the squares of the numbers from 1 to $n$. Your function should call the `squares` function -- it should NOT reimplement its functionality."
   ]
  },
  {
   "cell_type": "code",
   "execution_count": null,
   "metadata": {
    "deletable": false,
    "execution": {
     "iopub.execute_input": "2022-07-28T18:48:32.800464Z",
     "iopub.status.busy": "2022-07-28T18:48:32.800366Z",
     "iopub.status.idle": "2022-07-28T18:48:32.802619Z",
     "shell.execute_reply": "2022-07-28T18:48:32.802308Z"
    },
    "nbgrader": {
     "cell_type": "code",
     "checksum": "166e1abc6621f93f8084ec312c49f757",
     "grade": false,
     "grade_id": "sum_of_squares",
     "locked": false,
     "schema_version": 3,
     "solution": true
    }
   },
   "outputs": [],
   "source": [
    "def sum_of_squares(n):\n",
    "    \"\"\"Compute the sum of the squares of numbers from 1 to n.\"\"\"\n",
    "    # YOUR CODE HERE\n",
    "    raise NotImplementedError()"
   ]
  },
  {
   "cell_type": "markdown",
   "metadata": {},
   "source": [
    "The sum of squares from 1 to 10 should be 385. Verify that this is the answer you get:"
   ]
  },
  {
   "cell_type": "code",
   "execution_count": null,
   "metadata": {
    "execution": {
     "iopub.execute_input": "2022-07-28T18:48:32.804195Z",
     "iopub.status.busy": "2022-07-28T18:48:32.804079Z",
     "iopub.status.idle": "2022-07-28T18:48:32.806551Z",
     "shell.execute_reply": "2022-07-28T18:48:32.806259Z"
    }
   },
   "outputs": [],
   "source": [
    "sum_of_squares(10)"
   ]
  },
  {
   "cell_type": "code",
   "execution_count": null,
   "metadata": {
    "deletable": false,
    "editable": false,
    "execution": {
     "iopub.execute_input": "2022-07-28T18:48:32.808086Z",
     "iopub.status.busy": "2022-07-28T18:48:32.807965Z",
     "iopub.status.idle": "2022-07-28T18:48:32.810476Z",
     "shell.execute_reply": "2022-07-28T18:48:32.810183Z"
    },
    "max_height": 100,
    "nbgrader": {
     "cell_type": "code",
     "checksum": "5c5498e7fecbdf0e2975bf0d76a35636",
     "grade": true,
     "grade_id": "correct_sum_of_squares",
     "locked": false,
     "points": 0.5,
     "schema_version": 3,
     "solution": false
    }
   },
   "outputs": [],
   "source": [
    "\"\"\"Check that sum_of_squares returns the correct answer for various inputs.\"\"\"\n",
    "from hashlib import sha1\n",
    "assert str(type(sum_of_squares(1))) == \"<class 'int'>\", \"type of sum_of_squares(1) is not int. Please make sure it is int and not np.int64, etc. You can cast your value into float using int()\"\n",
    "assert str(sum_of_squares(1)) == \"1\", \"value of sum_of_squares(1) is not correct\"\n",
    "\n",
    "assert str(type(sum_of_squares(2))) == \"<class 'int'>\", \"type of sum_of_squares(2) is not int. Please make sure it is int and not np.int64, etc. You can cast your value into float using int()\"\n",
    "assert str(sum_of_squares(2)) == \"5\", \"value of sum_of_squares(2) is not correct\"\n",
    "\n",
    "assert str(type(sum_of_squares(10))) == \"<class 'int'>\", \"type of sum_of_squares(10) is not int. Please make sure it is int and not np.int64, etc. You can cast your value into float using int()\"\n",
    "assert str(sum_of_squares(10)) == \"385\", \"value of sum_of_squares(10) is not correct\"\n",
    "\n",
    "assert str(type(sum_of_squares(11))) == \"<class 'int'>\", \"type of sum_of_squares(11) is not int. Please make sure it is int and not np.int64, etc. You can cast your value into float using int()\"\n",
    "assert str(sum_of_squares(11)) == \"506\", \"value of sum_of_squares(11) is not correct\"\n",
    "\n",
    "\n",
    "print('Success!')"
   ]
  },
  {
   "cell_type": "code",
   "execution_count": null,
   "metadata": {
    "deletable": false,
    "editable": false,
    "execution": {
     "iopub.execute_input": "2022-07-28T18:48:32.883004Z",
     "iopub.status.busy": "2022-07-28T18:48:32.882908Z",
     "iopub.status.idle": "2022-07-28T18:48:32.885132Z",
     "shell.execute_reply": "2022-07-28T18:48:32.884727Z"
    },
    "max_height": 100,
    "nbgrader": {
     "cell_type": "code",
     "checksum": "57ede6595b5f994385fc011e6f316ca3",
     "grade": true,
     "grade_id": "sum_of_squares_uses_squares",
     "locked": false,
     "points": 0.5,
     "schema_version": 3,
     "solution": false
    }
   },
   "outputs": [],
   "source": [
    "\"\"\"Check that sum_of_squares relies on squares.\"\"\"\n",
    "\n",
    "orig_squares = squares\n",
    "del squares\n",
    "\n",
    "from hashlib import sha1\n",
    "assert str(type(test_func_throws(lambda : sum_of_squares(1), NameError))) == \"<class 'bool'>\", \"type of test_func_throws(lambda : sum_of_squares(1), NameError) is not bool. test_func_throws(lambda : sum_of_squares(1), NameError) should be a bool\"\n",
    "assert str(test_func_throws(lambda : sum_of_squares(1), NameError)) == \"True\", \"boolean value of test_func_throws(lambda : sum_of_squares(1), NameError) is not correct\"\n",
    "\n",
    "\n",
    "squares = orig_squares\n",
    "\n",
    "print('Success!')"
   ]
  },
  {
   "cell_type": "markdown",
   "metadata": {},
   "source": [
    "---\n",
    "## Part C (1 point)\n",
    "\n",
    "Using LaTeX math notation, write out the equation that is implemented by your `sum_of_squares` function."
   ]
  },
  {
   "cell_type": "markdown",
   "metadata": {
    "deletable": false,
    "max_height": 100,
    "nbgrader": {
     "cell_type": "markdown",
     "checksum": "f3cc38a3e522c0be10852ebbe2a638b7",
     "grade": true,
     "grade_id": "sum_of_squares_equation",
     "locked": false,
     "points": 1,
     "schema_version": 3,
     "solution": true
    }
   },
   "source": [
    "YOUR ANSWER HERE"
   ]
  },
  {
   "cell_type": "markdown",
   "metadata": {},
   "source": [
    "---\n",
    "## Part D (2 points)\n",
    "\n",
    "Find a usecase for your `sum_of_squares` function and implement that usecase in the cell below."
   ]
  },
  {
   "cell_type": "code",
   "execution_count": null,
   "metadata": {
    "deletable": false,
    "execution": {
     "iopub.execute_input": "2022-07-28T18:48:32.908721Z",
     "iopub.status.busy": "2022-07-28T18:48:32.908602Z",
     "iopub.status.idle": "2022-07-28T18:48:32.910694Z",
     "shell.execute_reply": "2022-07-28T18:48:32.910366Z"
    },
    "max_height": 100,
    "nbgrader": {
     "cell_type": "code",
     "checksum": "5a96910dbc324f5565edf92f5c98af1b",
     "grade": true,
     "grade_id": "sum_of_squares_application",
     "locked": false,
     "points": 2,
     "schema_version": 3,
     "solution": true
    }
   },
   "outputs": [],
   "source": [
    "# YOUR CODE HERE\n",
    "raise NotImplementedError()"
   ]
  },
  {
   "cell_type": "markdown",
   "metadata": {
    "deletable": false,
    "editable": false,
    "nbgrader": {
     "cell_type": "markdown",
     "checksum": "987adcce9e8e5119f9c00f2db459fd97",
     "grade": false,
     "grade_id": "cell-938593c4a215c6cc",
     "locked": true,
     "points": 4,
     "schema_version": 3,
     "solution": false,
     "task": true
    }
   },
   "source": [
    "---\n",
    "## Part E (4 points)\n",
    "\n",
    "State the formulae for an arithmetic and geometric sum and verify them numerically for an example of your choice."
   ]
  }
 ],
 "metadata": {
  "kernelspec": {
   "display_name": "Python 3",
   "language": "python",
   "name": "python3"
  },
  "language_info": {
   "codemirror_mode": {
    "name": "ipython",
    "version": 3
   },
   "file_extension": ".py",
   "mimetype": "text/x-python",
   "name": "python",
   "nbconvert_exporter": "python",
   "pygments_lexer": "ipython3",
   "version": "3.8.10"
  }
 },
 "nbformat": 4,
 "nbformat_minor": 1
}
