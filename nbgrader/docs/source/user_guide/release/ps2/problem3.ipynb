{
 "cells": [
  {
   "cell_type": "markdown",
   "metadata": {
    "deletable": false,
    "editable": false,
    "nbgrader": {
     "cell_type": "markdown",
     "checksum": "535c21960d4663d5edac398cb445d087",
     "grade": false,
     "grade_id": "jupyter",
     "locked": true,
     "schema_version": 3,
     "solution": false
    }
   },
   "source": [
    "For this problem set, we'll be using the Jupyter notebook:\n",
    "\n",
    "![](jupyter.png)"
   ]
  },
  {
   "cell_type": "markdown",
   "metadata": {},
   "source": [
    "---\n",
    "## Part A (2 points)\n",
    "\n",
    "Write a function that returns a list of numbers, such that $x_i=i^2$, for $1\\leq i \\leq n$. Make sure it handles the case where $n<1$ by raising a `ValueError`."
   ]
  },
  {
   "cell_type": "code",
   "execution_count": null,
   "metadata": {
    "deletable": false,
    "execution": {
     "iopub.execute_input": "2022-07-29T17:43:28.587627Z",
     "iopub.status.busy": "2022-07-29T17:43:28.586986Z",
     "iopub.status.idle": "2022-07-29T17:43:28.612193Z",
     "shell.execute_reply": "2022-07-29T17:43:28.610067Z"
    },
    "nbgrader": {
     "cell_type": "code",
     "checksum": "8f1eab8d02a9520920aa06f8a86a2492",
     "grade": false,
     "grade_id": "squares",
     "locked": false,
     "schema_version": 3,
     "solution": true
    }
   },
   "outputs": [],
   "source": [
    "def squares(n):\n",
    "    \"\"\"Compute the squares of numbers from 1 to n, such that the \n",
    "    ith element of the returned list equals i^2.\n",
    "    \n",
    "    \"\"\"\n",
    "    # YOUR CODE HERE\n",
    "    raise NotImplementedError()"
   ]
  },
  {
   "cell_type": "markdown",
   "metadata": {},
   "source": [
    "Your function should print `[1, 4, 9, 16, 25, 36, 49, 64, 81, 100]` for $n=10$. Check that it does:"
   ]
  },
  {
   "cell_type": "code",
   "execution_count": null,
   "metadata": {
    "execution": {
     "iopub.execute_input": "2022-07-29T17:43:28.620920Z",
     "iopub.status.busy": "2022-07-29T17:43:28.620396Z",
     "iopub.status.idle": "2022-07-29T17:43:28.643229Z",
     "shell.execute_reply": "2022-07-29T17:43:28.642359Z"
    }
   },
   "outputs": [],
   "source": [
    "squares(10)"
   ]
  },
  {
   "cell_type": "code",
   "execution_count": null,
   "metadata": {
    "deletable": false,
    "editable": false,
    "execution": {
     "iopub.execute_input": "2022-07-29T17:43:28.685236Z",
     "iopub.status.busy": "2022-07-29T17:43:28.685088Z",
     "iopub.status.idle": "2022-07-29T17:43:28.688365Z",
     "shell.execute_reply": "2022-07-29T17:43:28.688020Z"
    },
    "max_height": 100,
    "nbgrader": {
     "cell_type": "code",
     "checksum": "10f5e70c7ecc99111d92d8bd8902e4c1",
     "grade": true,
     "grade_id": "correct_squares",
     "locked": false,
     "points": 1,
     "schema_version": 3,
     "solution": false
    }
   },
   "outputs": [],
   "source": [
    "\"\"\"Check that squares returns the correct output for several inputs\"\"\"\n",
    "from hashlib import sha1\n",
    "assert str(type(squares(1))) == \"<class 'list'>\", \"type of squares(1) is not list. squares(1) should be a list\"\n",
    "assert str(len(squares(1))) == \"1\", \"length of squares(1) is not correct\"\n",
    "assert str(sorted([str(element) for element in squares(1)])) == \"['1']\", \"values of squares(1) are not correct\"\n",
    "assert str(squares(1)) == \"[1]\", \"order of elements of squares(1) is not correct\"\n",
    "\n",
    "assert str(type(squares(2))) == \"<class 'list'>\", \"type of squares(2) is not list. squares(2) should be a list\"\n",
    "assert str(len(squares(2))) == \"2\", \"length of squares(2) is not correct\"\n",
    "assert str(sorted([str(element) for element in squares(2)])) == \"['1', '4']\", \"values of squares(2) are not correct\"\n",
    "assert str(squares(2)) == \"[1, 4]\", \"order of elements of squares(2) is not correct\"\n",
    "\n",
    "assert str(type(squares(15))) == \"<class 'list'>\", \"type of squares(15) is not list. squares(15) should be a list\"\n",
    "assert str(len(squares(15))) == \"15\", \"length of squares(15) is not correct\"\n",
    "assert str(sorted([str(element) for element in squares(15)])) == \"['1', '100', '121', '144', '16', '169', '196', '225', '25', '36', '4', '49', '64', '81', '9']\", \"values of squares(15) are not correct\"\n",
    "assert str(squares(15)) == \"[1, 4, 9, 16, 25, 36, 49, 64, 81, 100, 121, 144, 169, 196, 225]\", \"order of elements of squares(15) is not correct\"\n",
    "\n",
    "assert str(type(squares(10))) == \"<class 'list'>\", \"type of squares(10) is not list. squares(10) should be a list\"\n",
    "assert str(len(squares(10))) == \"10\", \"length of squares(10) is not correct\"\n",
    "assert str(sorted([str(element) for element in squares(10)])) == \"['1', '100', '16', '25', '36', '4', '49', '64', '81', '9']\", \"values of squares(10) are not correct\"\n",
    "assert str(squares(10)) == \"[1, 4, 9, 16, 25, 36, 49, 64, 81, 100]\", \"order of elements of squares(10) is not correct\"\n",
    "\n",
    "assert str(type(squares(11))) == \"<class 'list'>\", \"type of squares(11) is not list. squares(11) should be a list\"\n",
    "assert str(len(squares(11))) == \"11\", \"length of squares(11) is not correct\"\n",
    "assert str(sorted([str(element) for element in squares(11)])) == \"['1', '100', '121', '16', '25', '36', '4', '49', '64', '81', '9']\", \"values of squares(11) are not correct\"\n",
    "assert str(squares(11)) == \"[1, 4, 9, 16, 25, 36, 49, 64, 81, 100, 121]\", \"order of elements of squares(11) is not correct\"\n",
    "\n",
    "assert str(type(3)) == \"<class 'int'>\", \"type of 3 is not int. Please make sure it is int and not np.int64, etc. You can cast your value into float using int()\"\n",
    "assert str(3) == \"3\", \"value of 3 is not correct\"\n",
    "\n",
    "assert str(type(squares(3))) == \"<class 'list'>\", \"type of squares(3) is not list. squares(3) should be a list\"\n",
    "assert str(len(squares(3))) == \"3\", \"length of squares(3) is not correct\"\n",
    "assert str(sorted([str(element) for element in squares(3)])) == \"['1', '4', '9']\", \"values of squares(3) are not correct\"\n",
    "assert str(squares(3)) == \"[1, 4, 9]\", \"order of elements of squares(3) is not correct\"\n",
    "\n",
    "assert sha1(str(type(squares(3))).encode(\"utf-8\")+b\"1ba0df3a5c479060\").hexdigest() == \"e2f136f57813642dd84fd1445cc97d611cf1dc05\", \"type of squares(3) is not list. squares(3) should be a list\"\n",
    "assert sha1(str(len(squares(3))).encode(\"utf-8\")+b\"1ba0df3a5c479060\").hexdigest() == \"8760b1bf7d3f1267d5fc263e1781e1c24b93d662\", \"length of squares(3) is not correct\"\n",
    "assert sha1(str(sorted([str(element) for element in squares(3)])).encode(\"utf-8\")+b\"1ba0df3a5c479060\").hexdigest() == \"a25e2734d82da3dd5d66970e964604426f243ca9\", \"values of squares(3) are not correct\"\n",
    "assert sha1(str(squares(3)).encode(\"utf-8\")+b\"1ba0df3a5c479060\").hexdigest() == \"85a7eefcaf222991a496b4276241f614c651e514\", \"order of elements of squares(3) is not correct\"\n",
    "\n",
    "print('Success!')"
   ]
  },
  {
   "cell_type": "code",
   "execution_count": null,
   "metadata": {
    "deletable": false,
    "editable": false,
    "execution": {
     "iopub.execute_input": "2022-07-29T17:43:28.911932Z",
     "iopub.status.busy": "2022-07-29T17:43:28.911813Z",
     "iopub.status.idle": "2022-07-29T17:43:28.914160Z",
     "shell.execute_reply": "2022-07-29T17:43:28.913861Z"
    },
    "max_height": 100,
    "nbgrader": {
     "cell_type": "code",
     "checksum": "e6fd2a95b25b2351dbd56e5ec494e742",
     "grade": true,
     "grade_id": "squares_invalid_input",
     "locked": false,
     "points": 1,
     "schema_version": 3,
     "solution": false
    }
   },
   "outputs": [],
   "source": [
    "\"\"\"Check that squares raises an error for invalid inputs\"\"\"\n",
    "def test_func_throws(func, ErrorType):\n",
    "    try:\n",
    "        func()\n",
    "    except ErrorType:\n",
    "        return True\n",
    "    else:\n",
    "        print('Did not raise right type of error!')\n",
    "        return False\n",
    "    \n",
    "from hashlib import sha1\n",
    "assert str(type(test_func_throws(lambda : squares(0), ValueError))) == \"<class 'bool'>\", \"type of test_func_throws(lambda : squares(0), ValueError) is not bool. test_func_throws(lambda : squares(0), ValueError) should be a bool\"\n",
    "assert str(test_func_throws(lambda : squares(0), ValueError)) == \"True\", \"boolean value of test_func_throws(lambda : squares(0), ValueError) is not correct\"\n",
    "\n",
    "assert str(type(test_func_throws(lambda : squares(-4), ValueError))) == \"<class 'bool'>\", \"type of test_func_throws(lambda : squares(-4), ValueError) is not bool. test_func_throws(lambda : squares(-4), ValueError) should be a bool\"\n",
    "assert str(test_func_throws(lambda : squares(-4), ValueError)) == \"True\", \"boolean value of test_func_throws(lambda : squares(-4), ValueError) is not correct\"\n",
    "\n",
    "\n",
    "print('Success!')"
   ]
  },
  {
   "cell_type": "markdown",
   "metadata": {},
   "source": [
    "---\n",
    "\n",
    "## Part B (1 point)\n",
    "\n",
    "Using your `squares` function, write a function that computes the sum of the squares of the numbers from 1 to $n$. Your function should call the `squares` function -- it should NOT reimplement its functionality."
   ]
  },
  {
   "cell_type": "code",
   "execution_count": null,
   "metadata": {
    "deletable": false,
    "execution": {
     "iopub.execute_input": "2022-07-29T17:43:28.955474Z",
     "iopub.status.busy": "2022-07-29T17:43:28.955353Z",
     "iopub.status.idle": "2022-07-29T17:43:28.957411Z",
     "shell.execute_reply": "2022-07-29T17:43:28.957090Z"
    },
    "nbgrader": {
     "cell_type": "code",
     "checksum": "166e1abc6621f93f8084ec312c49f757",
     "grade": false,
     "grade_id": "sum_of_squares",
     "locked": false,
     "schema_version": 3,
     "solution": true
    }
   },
   "outputs": [],
   "source": [
    "def sum_of_squares(n):\n",
    "    \"\"\"Compute the sum of the squares of numbers from 1 to n.\"\"\"\n",
    "    # YOUR CODE HERE\n",
    "    raise NotImplementedError()"
   ]
  },
  {
   "cell_type": "markdown",
   "metadata": {},
   "source": [
    "The sum of squares from 1 to 10 should be 385. Verify that this is the answer you get:"
   ]
  },
  {
   "cell_type": "code",
   "execution_count": null,
   "metadata": {
    "execution": {
     "iopub.execute_input": "2022-07-29T17:43:28.959001Z",
     "iopub.status.busy": "2022-07-29T17:43:28.958879Z",
     "iopub.status.idle": "2022-07-29T17:43:28.961557Z",
     "shell.execute_reply": "2022-07-29T17:43:28.961264Z"
    }
   },
   "outputs": [],
   "source": [
    "sum_of_squares(10)"
   ]
  },
  {
   "cell_type": "code",
   "execution_count": null,
   "metadata": {
    "deletable": false,
    "editable": false,
    "execution": {
     "iopub.execute_input": "2022-07-29T17:43:28.963092Z",
     "iopub.status.busy": "2022-07-29T17:43:28.962975Z",
     "iopub.status.idle": "2022-07-29T17:43:28.965402Z",
     "shell.execute_reply": "2022-07-29T17:43:28.965110Z"
    },
    "max_height": 100,
    "nbgrader": {
     "cell_type": "code",
     "checksum": "5c5498e7fecbdf0e2975bf0d76a35636",
     "grade": true,
     "grade_id": "correct_sum_of_squares",
     "locked": false,
     "points": 0.5,
     "schema_version": 3,
     "solution": false
    }
   },
   "outputs": [],
   "source": [
    "\"\"\"Check that sum_of_squares returns the correct answer for various inputs.\"\"\"\n",
    "from hashlib import sha1\n",
    "assert str(type(sum_of_squares(1))) == \"<class 'int'>\", \"type of sum_of_squares(1) is not int. Please make sure it is int and not np.int64, etc. You can cast your value into float using int()\"\n",
    "assert str(sum_of_squares(1)) == \"1\", \"value of sum_of_squares(1) is not correct\"\n",
    "\n",
    "assert str(type(sum_of_squares(2))) == \"<class 'int'>\", \"type of sum_of_squares(2) is not int. Please make sure it is int and not np.int64, etc. You can cast your value into float using int()\"\n",
    "assert str(sum_of_squares(2)) == \"5\", \"value of sum_of_squares(2) is not correct\"\n",
    "\n",
    "assert str(type(sum_of_squares(10))) == \"<class 'int'>\", \"type of sum_of_squares(10) is not int. Please make sure it is int and not np.int64, etc. You can cast your value into float using int()\"\n",
    "assert str(sum_of_squares(10)) == \"385\", \"value of sum_of_squares(10) is not correct\"\n",
    "\n",
    "assert str(type(sum_of_squares(11))) == \"<class 'int'>\", \"type of sum_of_squares(11) is not int. Please make sure it is int and not np.int64, etc. You can cast your value into float using int()\"\n",
    "assert str(sum_of_squares(11)) == \"506\", \"value of sum_of_squares(11) is not correct\"\n",
    "\n",
    "\n",
    "print('Success!')"
   ]
  },
  {
   "cell_type": "code",
   "execution_count": null,
   "metadata": {
    "deletable": false,
    "editable": false,
    "execution": {
     "iopub.execute_input": "2022-07-29T17:43:29.036599Z",
     "iopub.status.busy": "2022-07-29T17:43:29.036478Z",
     "iopub.status.idle": "2022-07-29T17:43:29.038695Z",
     "shell.execute_reply": "2022-07-29T17:43:29.038330Z"
    },
    "max_height": 100,
    "nbgrader": {
     "cell_type": "code",
     "checksum": "57ede6595b5f994385fc011e6f316ca3",
     "grade": true,
     "grade_id": "sum_of_squares_uses_squares",
     "locked": false,
     "points": 0.5,
     "schema_version": 3,
     "solution": false
    }
   },
   "outputs": [],
   "source": [
    "\"\"\"Check that sum_of_squares relies on squares.\"\"\"\n",
    "\n",
    "orig_squares = squares\n",
    "del squares\n",
    "\n",
    "from hashlib import sha1\n",
    "assert str(type(test_func_throws(lambda : sum_of_squares(1), NameError))) == \"<class 'bool'>\", \"type of test_func_throws(lambda : sum_of_squares(1), NameError) is not bool. test_func_throws(lambda : sum_of_squares(1), NameError) should be a bool\"\n",
    "assert str(test_func_throws(lambda : sum_of_squares(1), NameError)) == \"True\", \"boolean value of test_func_throws(lambda : sum_of_squares(1), NameError) is not correct\"\n",
    "\n",
    "\n",
    "squares = orig_squares\n",
    "\n",
    "print('Success!')"
   ]
  },
  {
   "cell_type": "markdown",
   "metadata": {},
   "source": [
    "---\n",
    "## Part C (1 point)\n",
    "\n",
    "Using LaTeX math notation, write out the equation that is implemented by your `sum_of_squares` function."
   ]
  },
  {
   "cell_type": "markdown",
   "metadata": {
    "deletable": false,
    "max_height": 100,
    "nbgrader": {
     "cell_type": "markdown",
     "checksum": "f3cc38a3e522c0be10852ebbe2a638b7",
     "grade": true,
     "grade_id": "sum_of_squares_equation",
     "locked": false,
     "points": 1,
     "schema_version": 3,
     "solution": true
    }
   },
   "source": [
    "YOUR ANSWER HERE"
   ]
  },
  {
   "cell_type": "markdown",
   "metadata": {},
   "source": [
    "---\n",
    "## Part D (2 points)\n",
    "\n",
    "Find a usecase for your `sum_of_squares` function and implement that usecase in the cell below."
   ]
  },
  {
   "cell_type": "code",
   "execution_count": null,
   "metadata": {
    "deletable": false,
    "execution": {
     "iopub.execute_input": "2022-07-29T17:43:29.062234Z",
     "iopub.status.busy": "2022-07-29T17:43:29.062135Z",
     "iopub.status.idle": "2022-07-29T17:43:29.064452Z",
     "shell.execute_reply": "2022-07-29T17:43:29.064038Z"
    },
    "max_height": 100,
    "nbgrader": {
     "cell_type": "code",
     "checksum": "5a96910dbc324f5565edf92f5c98af1b",
     "grade": true,
     "grade_id": "sum_of_squares_application",
     "locked": false,
     "points": 2,
     "schema_version": 3,
     "solution": true
    }
   },
   "outputs": [],
   "source": [
    "# YOUR CODE HERE\n",
    "raise NotImplementedError()"
   ]
  },
  {
   "cell_type": "markdown",
   "metadata": {
    "deletable": false,
    "editable": false,
    "nbgrader": {
     "cell_type": "markdown",
     "checksum": "987adcce9e8e5119f9c00f2db459fd97",
     "grade": false,
     "grade_id": "cell-938593c4a215c6cc",
     "locked": true,
     "points": 4,
     "schema_version": 3,
     "solution": false,
     "task": true
    }
   },
   "source": [
    "---\n",
    "## Part E (4 points)\n",
    "\n",
    "State the formulae for an arithmetic and geometric sum and verify them numerically for an example of your choice."
   ]
  }
 ],
 "metadata": {
  "kernelspec": {
   "display_name": "Python 3",
   "language": "python",
   "name": "python3"
  },
  "language_info": {
   "codemirror_mode": {
    "name": "ipython",
    "version": 3
   },
   "file_extension": ".py",
   "mimetype": "text/x-python",
   "name": "python",
   "nbconvert_exporter": "python",
   "pygments_lexer": "ipython3",
   "version": "3.8.10"
  }
 },
 "nbformat": 4,
 "nbformat_minor": 1
}
