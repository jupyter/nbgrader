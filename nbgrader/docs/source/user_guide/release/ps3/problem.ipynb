{
 "cells": [
  {
   "cell_type": "markdown",
   "metadata": {
    "deletable": false,
    "editable": false,
    "nbgrader": {
     "cell_type": "markdown",
     "checksum": "535c21960d4663d5edac398cb445d087",
     "grade": false,
     "grade_id": "jupyter",
     "locked": true,
     "schema_version": 3,
     "solution": false
    }
   },
   "source": [
    "For this problem set, we'll be using the Jupyter notebook:\n",
    "\n",
    "![](jupyter.png)"
   ]
  },
  {
   "cell_type": "markdown",
   "metadata": {},
   "source": [
    "---\n",
    "## Part A (2 points)\n",
    "\n",
    "Write a function that returns a vector of numbers, such that $x_i=i^2$, for $1\\leq i \\leq n$. Make sure it handles the case where $n<1$ by using `stop(\"n must be greater than or equal to 1\")`."
   ]
  },
  {
   "cell_type": "code",
   "execution_count": null,
   "metadata": {
    "deletable": false,
    "execution": {
     "iopub.execute_input": "2022-07-28T18:52:43.069141Z",
     "iopub.status.busy": "2022-07-28T18:52:43.063942Z",
     "iopub.status.idle": "2022-07-28T18:52:43.103321Z",
     "shell.execute_reply": "2022-07-28T18:52:43.102084Z"
    },
    "nbgrader": {
     "cell_type": "code",
     "checksum": "4f135d471c16cc60e271bd031d260b76",
     "grade": false,
     "grade_id": "squares",
     "locked": false,
     "schema_version": 3,
     "solution": true
    }
   },
   "outputs": [],
   "source": [
    "squares <- function(n){\n",
    "    # YOUR CODE HERE\n",
    "    fail()\n",
    "}"
   ]
  },
  {
   "cell_type": "markdown",
   "metadata": {},
   "source": [
    "Your function should print `[1, 4, 9, 16, 25, 36, 49, 64, 81, 100]` for $n=10$. Check that it does:"
   ]
  },
  {
   "cell_type": "code",
   "execution_count": null,
   "metadata": {
    "execution": {
     "iopub.execute_input": "2022-07-28T18:52:43.124892Z",
     "iopub.status.busy": "2022-07-28T18:52:43.106083Z",
     "iopub.status.idle": "2022-07-28T18:52:43.137792Z",
     "shell.execute_reply": "2022-07-28T18:52:43.137090Z"
    }
   },
   "outputs": [],
   "source": [
    "squares(10)"
   ]
  },
  {
   "cell_type": "code",
   "execution_count": null,
   "metadata": {
    "deletable": false,
    "editable": false,
    "execution": {
     "iopub.execute_input": "2022-07-28T18:52:43.162758Z",
     "iopub.status.busy": "2022-07-28T18:52:43.162081Z",
     "iopub.status.idle": "2022-07-28T18:52:43.167272Z",
     "shell.execute_reply": "2022-07-28T18:52:43.166567Z"
    },
    "max_height": 100,
    "nbgrader": {
     "cell_type": "code",
     "checksum": "b811f837fda7d4055e2d4bc436ce5bc1",
     "grade": true,
     "grade_id": "correct_squares",
     "locked": false,
     "points": 2,
     "schema_version": 3,
     "solution": false
    }
   },
   "outputs": [],
   "source": [
    "library(digest)\n",
    "stopifnot(\"type of squares(1) is not double\"= setequal(toString(class(squares(1))), \"numeric\"))\n",
    "stopifnot(\"value of squares(1) is not correct (rounded to 2 decimal places)\"= setequal(toString(round(squares(1), 2)), \"1\"))\n",
    "stopifnot(\"length of squares(1) is not correct\"= setequal(toString(length(squares(1))), \"1\"))\n",
    "stopifnot(\"values of squares(1) are not correct\"= setequal(toString(sort(squares(1))), \"1\"))\n",
    "\n",
    "stopifnot(\"type of squares(2) is not double\"= setequal(toString(class(squares(2))), \"numeric\"))\n",
    "stopifnot(\"value of squares(2) is not correct (rounded to 2 decimal places)\"= setequal(toString(round(squares(2), 2)), \"1, 4\"))\n",
    "stopifnot(\"length of squares(2) is not correct\"= setequal(toString(length(squares(2))), \"2\"))\n",
    "stopifnot(\"values of squares(2) are not correct\"= setequal(toString(sort(squares(2))), \"1, 4\"))\n",
    "\n",
    "stopifnot(\"type of squares(15) is not double\"= setequal(toString(class(squares(15))), \"numeric\"))\n",
    "stopifnot(\"value of squares(15) is not correct (rounded to 2 decimal places)\"= setequal(toString(round(squares(15), 2)), \"1, 4, 9, 16, 25, 36, 49, 64, 81, 100, 121, 144, 169, 196, 225\"))\n",
    "stopifnot(\"length of squares(15) is not correct\"= setequal(toString(length(squares(15))), \"15\"))\n",
    "stopifnot(\"values of squares(15) are not correct\"= setequal(toString(sort(squares(15))), \"1, 4, 9, 16, 25, 36, 49, 64, 81, 100, 121, 144, 169, 196, 225\"))\n",
    "\n",
    "stopifnot(\"type of squares(10) is not double\"= setequal(toString(class(squares(10))), \"numeric\"))\n",
    "stopifnot(\"value of squares(10) is not correct (rounded to 2 decimal places)\"= setequal(toString(round(squares(10), 2)), \"1, 4, 9, 16, 25, 36, 49, 64, 81, 100\"))\n",
    "stopifnot(\"length of squares(10) is not correct\"= setequal(toString(length(squares(10))), \"10\"))\n",
    "stopifnot(\"values of squares(10) are not correct\"= setequal(toString(sort(squares(10))), \"1, 4, 9, 16, 25, 36, 49, 64, 81, 100\"))\n",
    "\n",
    "stopifnot(\"type of squares(11) is not double\"= setequal(toString(class(squares(11))), \"numeric\"))\n",
    "stopifnot(\"value of squares(11) is not correct (rounded to 2 decimal places)\"= setequal(toString(round(squares(11), 2)), \"1, 4, 9, 16, 25, 36, 49, 64, 81, 100, 121\"))\n",
    "stopifnot(\"length of squares(11) is not correct\"= setequal(toString(length(squares(11))), \"11\"))\n",
    "stopifnot(\"values of squares(11) are not correct\"= setequal(toString(sort(squares(11))), \"1, 4, 9, 16, 25, 36, 49, 64, 81, 100, 121\"))\n",
    "\n",
    "stopifnot(\"type of 3 is not double\"= setequal(toString(class(3)), \"numeric\"))\n",
    "stopifnot(\"value of 3 is not correct (rounded to 2 decimal places)\"= setequal(toString(round(3, 2)), \"3\"))\n",
    "stopifnot(\"length of 3 is not correct\"= setequal(toString(length(3)), \"1\"))\n",
    "stopifnot(\"values of 3 are not correct\"= setequal(toString(sort(3)), \"3\"))\n",
    "\n",
    "stopifnot(\"type of squares(3) is not double\"= setequal(toString(class(squares(3))), \"numeric\"))\n",
    "stopifnot(\"value of squares(3) is not correct (rounded to 2 decimal places)\"= setequal(toString(round(squares(3), 2)), \"1, 4, 9\"))\n",
    "stopifnot(\"length of squares(3) is not correct\"= setequal(toString(length(squares(3))), \"3\"))\n",
    "stopifnot(\"values of squares(3) are not correct\"= setequal(toString(sort(squares(3))), \"1, 4, 9\"))\n",
    "\n",
    "stopifnot(\"type of squares(3) is not double\"= setequal(digest(paste(toString(class(squares(3))), \"c75bdb60d61c6d9c\")), \"33701c3d03f84539d75e7817d35cc31d\"))\n",
    "stopifnot(\"value of squares(3) is not correct (rounded to 2 decimal places)\"= setequal(digest(paste(toString(round(squares(3), 2)), \"c75bdb60d61c6d9c\")), \"d6584e480c2ac299362b9a4f3f3f346d\"))\n",
    "stopifnot(\"length of squares(3) is not correct\"= setequal(digest(paste(toString(length(squares(3))), \"c75bdb60d61c6d9c\")), \"0309a9394fc16628c2c7c7d9b283d582\"))\n",
    "stopifnot(\"values of squares(3) are not correct\"= setequal(digest(paste(toString(sort(squares(3))), \"c75bdb60d61c6d9c\")), \"d6584e480c2ac299362b9a4f3f3f346d\"))\n",
    "\n",
    "print('Success!')"
   ]
  },
  {
   "cell_type": "markdown",
   "metadata": {},
   "source": [
    "---\n",
    "\n",
    "## Part B (1 point)\n",
    "\n",
    "Using your `squares` function, write a function that computes the sum of the squares of the numbers from 1 to $n$. Your function should call the `squares` function -- it should NOT reimplement its functionality."
   ]
  },
  {
   "cell_type": "code",
   "execution_count": null,
   "metadata": {
    "deletable": false,
    "execution": {
     "iopub.execute_input": "2022-07-28T18:52:43.609019Z",
     "iopub.status.busy": "2022-07-28T18:52:43.608416Z",
     "iopub.status.idle": "2022-07-28T18:52:43.613794Z",
     "shell.execute_reply": "2022-07-28T18:52:43.613110Z"
    },
    "nbgrader": {
     "cell_type": "code",
     "checksum": "2b498687caee7c570040d42f9849d22e",
     "grade": false,
     "grade_id": "sum_of_squares",
     "locked": false,
     "schema_version": 3,
     "solution": true
    }
   },
   "outputs": [],
   "source": [
    "sum_of_squares <- function(n) {\n",
    "    # YOUR CODE HERE\n",
    "    fail()\n",
    "}"
   ]
  },
  {
   "cell_type": "markdown",
   "metadata": {},
   "source": [
    "The sum of squares from 1 to 10 should be 385. Verify that this is the answer you get:"
   ]
  },
  {
   "cell_type": "code",
   "execution_count": null,
   "metadata": {
    "execution": {
     "iopub.execute_input": "2022-07-28T18:52:43.616220Z",
     "iopub.status.busy": "2022-07-28T18:52:43.615621Z",
     "iopub.status.idle": "2022-07-28T18:52:43.622248Z",
     "shell.execute_reply": "2022-07-28T18:52:43.621568Z"
    }
   },
   "outputs": [],
   "source": [
    "sum_of_squares(10)"
   ]
  },
  {
   "cell_type": "code",
   "execution_count": null,
   "metadata": {
    "deletable": false,
    "editable": false,
    "execution": {
     "iopub.execute_input": "2022-07-28T18:52:43.626538Z",
     "iopub.status.busy": "2022-07-28T18:52:43.624220Z",
     "iopub.status.idle": "2022-07-28T18:52:43.630739Z",
     "shell.execute_reply": "2022-07-28T18:52:43.630053Z"
    },
    "max_height": 100,
    "nbgrader": {
     "cell_type": "code",
     "checksum": "eec1d0711fb15eb0747b6b93950388dc",
     "grade": true,
     "grade_id": "correct_sum_of_squares",
     "locked": false,
     "points": 1,
     "schema_version": 3,
     "solution": false
    }
   },
   "outputs": [],
   "source": [
    "library(digest)\n",
    "stopifnot(\"type of sum_of_squares(1) is not double\"= setequal(toString(class(sum_of_squares(1))), \"numeric\"))\n",
    "stopifnot(\"value of sum_of_squares(1) is not correct (rounded to 2 decimal places)\"= setequal(toString(round(sum_of_squares(1), 2)), \"1\"))\n",
    "stopifnot(\"length of sum_of_squares(1) is not correct\"= setequal(toString(length(sum_of_squares(1))), \"1\"))\n",
    "stopifnot(\"values of sum_of_squares(1) are not correct\"= setequal(toString(sort(sum_of_squares(1))), \"1\"))\n",
    "\n",
    "stopifnot(\"type of sum_of_squares(2) is not double\"= setequal(toString(class(sum_of_squares(2))), \"numeric\"))\n",
    "stopifnot(\"value of sum_of_squares(2) is not correct (rounded to 2 decimal places)\"= setequal(toString(round(sum_of_squares(2), 2)), \"5\"))\n",
    "stopifnot(\"length of sum_of_squares(2) is not correct\"= setequal(toString(length(sum_of_squares(2))), \"1\"))\n",
    "stopifnot(\"values of sum_of_squares(2) are not correct\"= setequal(toString(sort(sum_of_squares(2))), \"5\"))\n",
    "\n",
    "stopifnot(\"type of sum_of_squares(10) is not double\"= setequal(toString(class(sum_of_squares(10))), \"numeric\"))\n",
    "stopifnot(\"value of sum_of_squares(10) is not correct (rounded to 2 decimal places)\"= setequal(toString(round(sum_of_squares(10), 2)), \"385\"))\n",
    "stopifnot(\"length of sum_of_squares(10) is not correct\"= setequal(toString(length(sum_of_squares(10))), \"1\"))\n",
    "stopifnot(\"values of sum_of_squares(10) are not correct\"= setequal(toString(sort(sum_of_squares(10))), \"385\"))\n",
    "\n",
    "stopifnot(\"type of sum_of_squares(11) is not double\"= setequal(toString(class(sum_of_squares(11))), \"numeric\"))\n",
    "stopifnot(\"value of sum_of_squares(11) is not correct (rounded to 2 decimal places)\"= setequal(toString(round(sum_of_squares(11), 2)), \"506\"))\n",
    "stopifnot(\"length of sum_of_squares(11) is not correct\"= setequal(toString(length(sum_of_squares(11))), \"1\"))\n",
    "stopifnot(\"values of sum_of_squares(11) are not correct\"= setequal(toString(sort(sum_of_squares(11))), \"506\"))\n",
    "\n",
    "\n",
    "print('Success!')"
   ]
  },
  {
   "cell_type": "markdown",
   "metadata": {},
   "source": [
    "---\n",
    "## Part C (1 point)\n",
    "\n",
    "Using LaTeX math notation, write out the equation that is implemented by your `sum_of_squares` function."
   ]
  },
  {
   "cell_type": "markdown",
   "metadata": {
    "deletable": false,
    "max_height": 100,
    "nbgrader": {
     "cell_type": "markdown",
     "checksum": "f3cc38a3e522c0be10852ebbe2a638b7",
     "grade": true,
     "grade_id": "sum_of_squares_equation",
     "locked": false,
     "points": 1,
     "schema_version": 3,
     "solution": true
    }
   },
   "source": [
    "YOUR ANSWER HERE"
   ]
  },
  {
   "cell_type": "markdown",
   "metadata": {},
   "source": [
    "---\n",
    "## Part D (2 points)\n",
    "\n",
    "Find a usecase for your `sum_of_squares` function and implement that usecase in the cell below."
   ]
  },
  {
   "cell_type": "code",
   "execution_count": null,
   "metadata": {
    "deletable": false,
    "execution": {
     "iopub.execute_input": "2022-07-28T18:52:43.851570Z",
     "iopub.status.busy": "2022-07-28T18:52:43.850855Z",
     "iopub.status.idle": "2022-07-28T18:52:43.856725Z",
     "shell.execute_reply": "2022-07-28T18:52:43.855969Z"
    },
    "max_height": 100,
    "nbgrader": {
     "cell_type": "code",
     "checksum": "e3659139f4130b78eb70b2199eff2c71",
     "grade": true,
     "grade_id": "sum_of_squares_application",
     "locked": false,
     "points": 2,
     "schema_version": 3,
     "solution": true
    }
   },
   "outputs": [],
   "source": [
    "# YOUR CODE HERE\n",
    "fail()"
   ]
  },
  {
   "cell_type": "markdown",
   "metadata": {},
   "source": [
    "---\n",
    "## Part E (4 points)\n",
    "\n",
    "State the formulae for an arithmetic and geometric sum and verify them numerically for an example of your choice."
   ]
  }
 ],
 "metadata": {
  "kernelspec": {
   "display_name": "R",
   "language": "R",
   "name": "ir"
  },
  "language_info": {
   "codemirror_mode": "r",
   "file_extension": ".r",
   "mimetype": "text/x-r-source",
   "name": "R",
   "pygments_lexer": "r",
   "version": "3.6.3"
  }
 },
 "nbformat": 4,
 "nbformat_minor": 1
}
