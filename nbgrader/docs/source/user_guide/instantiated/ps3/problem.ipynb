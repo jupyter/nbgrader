{
 "cells": [
  {
   "cell_type": "markdown",
   "metadata": {
    "nbgrader": {
     "grade": false,
     "grade_id": "jupyter",
     "locked": true,
     "schema_version": 3,
     "solution": false
    }
   },
   "source": [
    "For this problem set, we'll be using the Jupyter notebook:\n",
    "\n",
    "![](jupyter.png)"
   ]
  },
  {
   "cell_type": "markdown",
   "metadata": {},
   "source": [
    "---\n",
    "## Part A (2 points)\n",
    "\n",
    "Write a function that returns a vector of numbers, such that $x_i=i^2$, for $1\\leq i \\leq n$. Make sure it handles the case where $n<1$ by using `stop(\"n must be greater than or equal to 1\")`."
   ]
  },
  {
   "cell_type": "code",
   "execution_count": null,
   "metadata": {
    "execution": {
     "iopub.execute_input": "2022-07-29T17:43:57.973067Z",
     "iopub.status.busy": "2022-07-29T17:43:57.972056Z",
     "iopub.status.idle": "2022-07-29T17:43:57.987247Z",
     "shell.execute_reply": "2022-07-29T17:43:57.986333Z"
    },
    "nbgrader": {
     "grade": false,
     "grade_id": "squares",
     "locked": false,
     "schema_version": 3,
     "solution": true
    }
   },
   "outputs": [],
   "source": [
    "squares <- function(n){\n",
    "    ### BEGIN SOLUTION\n",
    "    if (n < 1){\n",
    "        stop(\"n must be greater than or equal to 1\")\n",
    "    }\n",
    "    ret <- c()\n",
    "    for (i in 1:n){\n",
    "        ret <- append(ret, i**2)\n",
    "    }\n",
    "    return(ret)\n",
    "    ### END SOLUTION\n",
    "}"
   ]
  },
  {
   "cell_type": "markdown",
   "metadata": {},
   "source": [
    "Your function should print `[1, 4, 9, 16, 25, 36, 49, 64, 81, 100]` for $n=10$. Check that it does:"
   ]
  },
  {
   "cell_type": "code",
   "execution_count": null,
   "metadata": {
    "execution": {
     "iopub.execute_input": "2022-07-29T17:43:58.005783Z",
     "iopub.status.busy": "2022-07-29T17:43:57.989297Z",
     "iopub.status.idle": "2022-07-29T17:43:58.018050Z",
     "shell.execute_reply": "2022-07-29T17:43:58.017360Z"
    }
   },
   "outputs": [],
   "source": [
    "squares(10)"
   ]
  },
  {
   "cell_type": "code",
   "execution_count": null,
   "metadata": {
    "execution": {
     "iopub.execute_input": "2022-07-29T17:43:58.041528Z",
     "iopub.status.busy": "2022-07-29T17:43:58.040876Z",
     "iopub.status.idle": "2022-07-29T17:43:58.046338Z",
     "shell.execute_reply": "2022-07-29T17:43:58.045632Z"
    },
    "nbgrader": {
     "grade": true,
     "grade_id": "correct_squares",
     "locked": false,
     "points": 2,
     "schema_version": 3,
     "solution": false
    }
   },
   "outputs": [],
   "source": [
    "library(digest)\n",
    "stopifnot(\"type of squares(1) is not double\"= setequal(toString(class(squares(1))), \"numeric\"))\n",
    "stopifnot(\"value of squares(1) is not correct (rounded to 2 decimal places)\"= setequal(toString(round(squares(1), 2)), \"1\"))\n",
    "stopifnot(\"length of squares(1) is not correct\"= setequal(toString(length(squares(1))), \"1\"))\n",
    "stopifnot(\"values of squares(1) are not correct\"= setequal(toString(sort(squares(1))), \"1\"))\n",
    "\n",
    "stopifnot(\"type of squares(2) is not double\"= setequal(toString(class(squares(2))), \"numeric\"))\n",
    "stopifnot(\"value of squares(2) is not correct (rounded to 2 decimal places)\"= setequal(toString(round(squares(2), 2)), \"1, 4\"))\n",
    "stopifnot(\"length of squares(2) is not correct\"= setequal(toString(length(squares(2))), \"2\"))\n",
    "stopifnot(\"values of squares(2) are not correct\"= setequal(toString(sort(squares(2))), \"1, 4\"))\n",
    "\n",
    "stopifnot(\"type of squares(15) is not double\"= setequal(toString(class(squares(15))), \"numeric\"))\n",
    "stopifnot(\"value of squares(15) is not correct (rounded to 2 decimal places)\"= setequal(toString(round(squares(15), 2)), \"1, 4, 9, 16, 25, 36, 49, 64, 81, 100, 121, 144, 169, 196, 225\"))\n",
    "stopifnot(\"length of squares(15) is not correct\"= setequal(toString(length(squares(15))), \"15\"))\n",
    "stopifnot(\"values of squares(15) are not correct\"= setequal(toString(sort(squares(15))), \"1, 4, 9, 16, 25, 36, 49, 64, 81, 100, 121, 144, 169, 196, 225\"))\n",
    "\n",
    "stopifnot(\"type of squares(10) is not double\"= setequal(toString(class(squares(10))), \"numeric\"))\n",
    "stopifnot(\"value of squares(10) is not correct (rounded to 2 decimal places)\"= setequal(toString(round(squares(10), 2)), \"1, 4, 9, 16, 25, 36, 49, 64, 81, 100\"))\n",
    "stopifnot(\"length of squares(10) is not correct\"= setequal(toString(length(squares(10))), \"10\"))\n",
    "stopifnot(\"values of squares(10) are not correct\"= setequal(toString(sort(squares(10))), \"1, 4, 9, 16, 25, 36, 49, 64, 81, 100\"))\n",
    "\n",
    "stopifnot(\"type of squares(11) is not double\"= setequal(toString(class(squares(11))), \"numeric\"))\n",
    "stopifnot(\"value of squares(11) is not correct (rounded to 2 decimal places)\"= setequal(toString(round(squares(11), 2)), \"1, 4, 9, 16, 25, 36, 49, 64, 81, 100, 121\"))\n",
    "stopifnot(\"length of squares(11) is not correct\"= setequal(toString(length(squares(11))), \"11\"))\n",
    "stopifnot(\"values of squares(11) are not correct\"= setequal(toString(sort(squares(11))), \"1, 4, 9, 16, 25, 36, 49, 64, 81, 100, 121\"))\n",
    "\n",
    "stopifnot(\"type of 3 is not double\"= setequal(toString(class(3)), \"numeric\"))\n",
    "stopifnot(\"value of 3 is not correct (rounded to 2 decimal places)\"= setequal(toString(round(3, 2)), \"3\"))\n",
    "stopifnot(\"length of 3 is not correct\"= setequal(toString(length(3)), \"1\"))\n",
    "stopifnot(\"values of 3 are not correct\"= setequal(toString(sort(3)), \"3\"))\n",
    "\n",
    "stopifnot(\"type of squares(3) is not double\"= setequal(toString(class(squares(3))), \"numeric\"))\n",
    "stopifnot(\"value of squares(3) is not correct (rounded to 2 decimal places)\"= setequal(toString(round(squares(3), 2)), \"1, 4, 9\"))\n",
    "stopifnot(\"length of squares(3) is not correct\"= setequal(toString(length(squares(3))), \"3\"))\n",
    "stopifnot(\"values of squares(3) are not correct\"= setequal(toString(sort(squares(3))), \"1, 4, 9\"))\n",
    "\n",
    "stopifnot(\"type of squares(3) is not double\"= setequal(digest(paste(toString(class(squares(3))), \"5b608997c80e6d37\")), \"00bfdc6a4661662599c9aaebafeb9881\"))\n",
    "stopifnot(\"value of squares(3) is not correct (rounded to 2 decimal places)\"= setequal(digest(paste(toString(round(squares(3), 2)), \"5b608997c80e6d37\")), \"ef6047c778b659507b34b2d1095a6755\"))\n",
    "stopifnot(\"length of squares(3) is not correct\"= setequal(digest(paste(toString(length(squares(3))), \"5b608997c80e6d37\")), \"7ea2f1d6d2b444d787258dc229e0f7ee\"))\n",
    "stopifnot(\"values of squares(3) are not correct\"= setequal(digest(paste(toString(sort(squares(3))), \"5b608997c80e6d37\")), \"ef6047c778b659507b34b2d1095a6755\"))\n",
    "\n",
    "print('Success!')"
   ]
  },
  {
   "cell_type": "markdown",
   "metadata": {},
   "source": [
    "---\n",
    "\n",
    "## Part B (1 point)\n",
    "\n",
    "Using your `squares` function, write a function that computes the sum of the squares of the numbers from 1 to $n$. Your function should call the `squares` function -- it should NOT reimplement its functionality."
   ]
  },
  {
   "cell_type": "code",
   "execution_count": null,
   "metadata": {
    "execution": {
     "iopub.execute_input": "2022-07-29T17:43:58.470984Z",
     "iopub.status.busy": "2022-07-29T17:43:58.470350Z",
     "iopub.status.idle": "2022-07-29T17:43:58.475516Z",
     "shell.execute_reply": "2022-07-29T17:43:58.474848Z"
    },
    "nbgrader": {
     "grade": false,
     "grade_id": "sum_of_squares",
     "locked": false,
     "schema_version": 3,
     "solution": true
    }
   },
   "outputs": [],
   "source": [
    "sum_of_squares <- function(n) {\n",
    "    ### BEGIN SOLUTION\n",
    "    return(sum(squares(n)))\n",
    "    ### END SOLUTION\n",
    "}"
   ]
  },
  {
   "cell_type": "markdown",
   "metadata": {},
   "source": [
    "The sum of squares from 1 to 10 should be 385. Verify that this is the answer you get:"
   ]
  },
  {
   "cell_type": "code",
   "execution_count": null,
   "metadata": {
    "execution": {
     "iopub.execute_input": "2022-07-29T17:43:58.477884Z",
     "iopub.status.busy": "2022-07-29T17:43:58.477253Z",
     "iopub.status.idle": "2022-07-29T17:43:58.483715Z",
     "shell.execute_reply": "2022-07-29T17:43:58.483047Z"
    }
   },
   "outputs": [],
   "source": [
    "sum_of_squares(10)"
   ]
  },
  {
   "cell_type": "code",
   "execution_count": null,
   "metadata": {
    "execution": {
     "iopub.execute_input": "2022-07-29T17:43:58.487643Z",
     "iopub.status.busy": "2022-07-29T17:43:58.485430Z",
     "iopub.status.idle": "2022-07-29T17:43:58.491580Z",
     "shell.execute_reply": "2022-07-29T17:43:58.490921Z"
    },
    "nbgrader": {
     "grade": true,
     "grade_id": "correct_sum_of_squares",
     "locked": false,
     "points": 1,
     "schema_version": 3,
     "solution": false
    }
   },
   "outputs": [],
   "source": [
    "library(digest)\n",
    "stopifnot(\"type of sum_of_squares(1) is not double\"= setequal(toString(class(sum_of_squares(1))), \"numeric\"))\n",
    "stopifnot(\"value of sum_of_squares(1) is not correct (rounded to 2 decimal places)\"= setequal(toString(round(sum_of_squares(1), 2)), \"1\"))\n",
    "stopifnot(\"length of sum_of_squares(1) is not correct\"= setequal(toString(length(sum_of_squares(1))), \"1\"))\n",
    "stopifnot(\"values of sum_of_squares(1) are not correct\"= setequal(toString(sort(sum_of_squares(1))), \"1\"))\n",
    "\n",
    "stopifnot(\"type of sum_of_squares(2) is not double\"= setequal(toString(class(sum_of_squares(2))), \"numeric\"))\n",
    "stopifnot(\"value of sum_of_squares(2) is not correct (rounded to 2 decimal places)\"= setequal(toString(round(sum_of_squares(2), 2)), \"5\"))\n",
    "stopifnot(\"length of sum_of_squares(2) is not correct\"= setequal(toString(length(sum_of_squares(2))), \"1\"))\n",
    "stopifnot(\"values of sum_of_squares(2) are not correct\"= setequal(toString(sort(sum_of_squares(2))), \"5\"))\n",
    "\n",
    "stopifnot(\"type of sum_of_squares(10) is not double\"= setequal(toString(class(sum_of_squares(10))), \"numeric\"))\n",
    "stopifnot(\"value of sum_of_squares(10) is not correct (rounded to 2 decimal places)\"= setequal(toString(round(sum_of_squares(10), 2)), \"385\"))\n",
    "stopifnot(\"length of sum_of_squares(10) is not correct\"= setequal(toString(length(sum_of_squares(10))), \"1\"))\n",
    "stopifnot(\"values of sum_of_squares(10) are not correct\"= setequal(toString(sort(sum_of_squares(10))), \"385\"))\n",
    "\n",
    "stopifnot(\"type of sum_of_squares(11) is not double\"= setequal(toString(class(sum_of_squares(11))), \"numeric\"))\n",
    "stopifnot(\"value of sum_of_squares(11) is not correct (rounded to 2 decimal places)\"= setequal(toString(round(sum_of_squares(11), 2)), \"506\"))\n",
    "stopifnot(\"length of sum_of_squares(11) is not correct\"= setequal(toString(length(sum_of_squares(11))), \"1\"))\n",
    "stopifnot(\"values of sum_of_squares(11) are not correct\"= setequal(toString(sort(sum_of_squares(11))), \"506\"))\n",
    "\n",
    "\n",
    "print('Success!')"
   ]
  },
  {
   "cell_type": "markdown",
   "metadata": {},
   "source": [
    "---\n",
    "## Part C (1 point)\n",
    "\n",
    "Using LaTeX math notation, write out the equation that is implemented by your `sum_of_squares` function."
   ]
  },
  {
   "cell_type": "markdown",
   "metadata": {
    "nbgrader": {
     "grade": true,
     "grade_id": "sum_of_squares_equation",
     "locked": false,
     "points": 1,
     "schema_version": 3,
     "solution": true
    }
   },
   "source": [
    "$\\sum_{i=1}^n i^2$"
   ]
  },
  {
   "cell_type": "markdown",
   "metadata": {},
   "source": [
    "---\n",
    "## Part D (2 points)\n",
    "\n",
    "Find a usecase for your `sum_of_squares` function and implement that usecase in the cell below."
   ]
  },
  {
   "cell_type": "code",
   "execution_count": null,
   "metadata": {
    "execution": {
     "iopub.execute_input": "2022-07-29T17:43:58.696927Z",
     "iopub.status.busy": "2022-07-29T17:43:58.696341Z",
     "iopub.status.idle": "2022-07-29T17:43:58.701572Z",
     "shell.execute_reply": "2022-07-29T17:43:58.700894Z"
    },
    "nbgrader": {
     "grade": true,
     "grade_id": "sum_of_squares_application",
     "locked": false,
     "points": 2,
     "schema_version": 3,
     "solution": true
    }
   },
   "outputs": [],
   "source": [
    "pyramidal_number <- function(n){\n",
    "    return(sum_of_squares(n))\n",
    "}"
   ]
  },
  {
   "cell_type": "markdown",
   "metadata": {},
   "source": [
    "---\n",
    "## Part E (4 points)\n",
    "\n",
    "State the formulae for an arithmetic and geometric sum and verify them numerically for an example of your choice."
   ]
  }
 ],
 "metadata": {
  "celltoolbar": "Create Assignment",
  "kernelspec": {
   "display_name": "R",
   "language": "R",
   "name": "ir"
  },
  "language_info": {
   "codemirror_mode": "r",
   "file_extension": ".r",
   "mimetype": "text/x-r-source",
   "name": "R",
   "pygments_lexer": "r",
   "version": "3.6.3"
  }
 },
 "nbformat": 4,
 "nbformat_minor": 1
}
