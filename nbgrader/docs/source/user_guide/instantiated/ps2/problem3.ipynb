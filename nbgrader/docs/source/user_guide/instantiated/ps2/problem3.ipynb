{
 "cells": [
  {
   "cell_type": "markdown",
   "metadata": {
    "nbgrader": {
     "grade": false,
     "grade_id": "jupyter",
     "locked": true,
     "schema_version": 3,
     "solution": false
    }
   },
   "source": [
    "For this problem set, we'll be using the Jupyter notebook:\n",
    "\n",
    "![](jupyter.png)"
   ]
  },
  {
   "cell_type": "markdown",
   "metadata": {},
   "source": [
    "---\n",
    "## Part A (2 points)\n",
    "\n",
    "Write a function that returns a list of numbers, such that $x_i=i^2$, for $1\\leq i \\leq n$. Make sure it handles the case where $n<1$ by raising a `ValueError`."
   ]
  },
  {
   "cell_type": "code",
   "execution_count": null,
   "metadata": {
    "execution": {
     "iopub.execute_input": "2022-07-28T18:44:00.987835Z",
     "iopub.status.busy": "2022-07-28T18:44:00.987195Z",
     "iopub.status.idle": "2022-07-28T18:44:01.012155Z",
     "shell.execute_reply": "2022-07-28T18:44:01.010025Z"
    },
    "nbgrader": {
     "grade": false,
     "grade_id": "squares",
     "locked": false,
     "schema_version": 3,
     "solution": true
    }
   },
   "outputs": [],
   "source": [
    "def squares(n):\n",
    "    \"\"\"Compute the squares of numbers from 1 to n, such that the \n",
    "    ith element of the returned list equals i^2.\n",
    "    \n",
    "    \"\"\"\n",
    "    ### BEGIN SOLUTION\n",
    "    if n < 1:\n",
    "        raise ValueError(\"n must be greater than or equal to 1\")\n",
    "    return [i ** 2 for i in range(1, n + 1)]\n",
    "    ### END SOLUTION"
   ]
  },
  {
   "cell_type": "markdown",
   "metadata": {},
   "source": [
    "Your function should print `[1, 4, 9, 16, 25, 36, 49, 64, 81, 100]` for $n=10$. Check that it does:"
   ]
  },
  {
   "cell_type": "code",
   "execution_count": null,
   "metadata": {
    "execution": {
     "iopub.execute_input": "2022-07-28T18:44:01.021251Z",
     "iopub.status.busy": "2022-07-28T18:44:01.020734Z",
     "iopub.status.idle": "2022-07-28T18:44:01.044883Z",
     "shell.execute_reply": "2022-07-28T18:44:01.043958Z"
    }
   },
   "outputs": [],
   "source": [
    "squares(10)"
   ]
  },
  {
   "cell_type": "code",
   "execution_count": null,
   "metadata": {
    "execution": {
     "iopub.execute_input": "2022-07-28T18:44:01.087060Z",
     "iopub.status.busy": "2022-07-28T18:44:01.086927Z",
     "iopub.status.idle": "2022-07-28T18:44:01.089886Z",
     "shell.execute_reply": "2022-07-28T18:44:01.089521Z"
    },
    "nbgrader": {
     "grade": true,
     "grade_id": "correct_squares",
     "locked": false,
     "points": 1,
     "schema_version": 3,
     "solution": false
    }
   },
   "outputs": [],
   "source": [
    "\"\"\"Check that squares returns the correct output for several inputs\"\"\"\n",
    "from hashlib import sha1\n",
    "assert str(type(squares(1))) == \"<class 'list'>\", \"type of squares(1) is not list. squares(1) should be a list\"\n",
    "assert str(len(squares(1))) == \"1\", \"length of squares(1) is not correct\"\n",
    "assert str(sorted([str(element) for element in squares(1)])) == \"['1']\", \"values of squares(1) are not correct\"\n",
    "assert str(squares(1)) == \"[1]\", \"order of elements of squares(1) is not correct\"\n",
    "\n",
    "assert str(type(squares(2))) == \"<class 'list'>\", \"type of squares(2) is not list. squares(2) should be a list\"\n",
    "assert str(len(squares(2))) == \"2\", \"length of squares(2) is not correct\"\n",
    "assert str(sorted([str(element) for element in squares(2)])) == \"['1', '4']\", \"values of squares(2) are not correct\"\n",
    "assert str(squares(2)) == \"[1, 4]\", \"order of elements of squares(2) is not correct\"\n",
    "\n",
    "assert str(type(squares(15))) == \"<class 'list'>\", \"type of squares(15) is not list. squares(15) should be a list\"\n",
    "assert str(len(squares(15))) == \"15\", \"length of squares(15) is not correct\"\n",
    "assert str(sorted([str(element) for element in squares(15)])) == \"['1', '100', '121', '144', '16', '169', '196', '225', '25', '36', '4', '49', '64', '81', '9']\", \"values of squares(15) are not correct\"\n",
    "assert str(squares(15)) == \"[1, 4, 9, 16, 25, 36, 49, 64, 81, 100, 121, 144, 169, 196, 225]\", \"order of elements of squares(15) is not correct\"\n",
    "\n",
    "assert str(type(squares(10))) == \"<class 'list'>\", \"type of squares(10) is not list. squares(10) should be a list\"\n",
    "assert str(len(squares(10))) == \"10\", \"length of squares(10) is not correct\"\n",
    "assert str(sorted([str(element) for element in squares(10)])) == \"['1', '100', '16', '25', '36', '4', '49', '64', '81', '9']\", \"values of squares(10) are not correct\"\n",
    "assert str(squares(10)) == \"[1, 4, 9, 16, 25, 36, 49, 64, 81, 100]\", \"order of elements of squares(10) is not correct\"\n",
    "\n",
    "assert str(type(squares(11))) == \"<class 'list'>\", \"type of squares(11) is not list. squares(11) should be a list\"\n",
    "assert str(len(squares(11))) == \"11\", \"length of squares(11) is not correct\"\n",
    "assert str(sorted([str(element) for element in squares(11)])) == \"['1', '100', '121', '16', '25', '36', '4', '49', '64', '81', '9']\", \"values of squares(11) are not correct\"\n",
    "assert str(squares(11)) == \"[1, 4, 9, 16, 25, 36, 49, 64, 81, 100, 121]\", \"order of elements of squares(11) is not correct\"\n",
    "\n",
    "assert str(type(3)) == \"<class 'int'>\", \"type of 3 is not int. Please make sure it is int and not np.int64, etc. You can cast your value into float using int()\"\n",
    "assert str(3) == \"3\", \"value of 3 is not correct\"\n",
    "\n",
    "assert str(type(squares(3))) == \"<class 'list'>\", \"type of squares(3) is not list. squares(3) should be a list\"\n",
    "assert str(len(squares(3))) == \"3\", \"length of squares(3) is not correct\"\n",
    "assert str(sorted([str(element) for element in squares(3)])) == \"['1', '4', '9']\", \"values of squares(3) are not correct\"\n",
    "assert str(squares(3)) == \"[1, 4, 9]\", \"order of elements of squares(3) is not correct\"\n",
    "\n",
    "assert sha1(str(type(squares(3))).encode(\"utf-8\")+b\"6b2cfc17ddfb48c1\").hexdigest() == \"f9a463b4682cb51b5db04036f450fca7ef5cb849\", \"type of squares(3) is not list. squares(3) should be a list\"\n",
    "assert sha1(str(len(squares(3))).encode(\"utf-8\")+b\"6b2cfc17ddfb48c1\").hexdigest() == \"6b547d447710a84c0ce99aba3938f4713ae4f6a0\", \"length of squares(3) is not correct\"\n",
    "assert sha1(str(sorted([str(element) for element in squares(3)])).encode(\"utf-8\")+b\"6b2cfc17ddfb48c1\").hexdigest() == \"923d07f282ef78f4fec2e1a6da450f62f64cb75d\", \"values of squares(3) are not correct\"\n",
    "assert sha1(str(squares(3)).encode(\"utf-8\")+b\"6b2cfc17ddfb48c1\").hexdigest() == \"c6d3799d8547b37b4814a6f9f1034aae4a86523d\", \"order of elements of squares(3) is not correct\"\n",
    "\n",
    "print('Success!')"
   ]
  },
  {
   "cell_type": "code",
   "execution_count": null,
   "metadata": {
    "execution": {
     "iopub.execute_input": "2022-07-28T18:44:01.318015Z",
     "iopub.status.busy": "2022-07-28T18:44:01.317897Z",
     "iopub.status.idle": "2022-07-28T18:44:01.320409Z",
     "shell.execute_reply": "2022-07-28T18:44:01.319989Z"
    },
    "nbgrader": {
     "grade": true,
     "grade_id": "squares_invalid_input",
     "locked": false,
     "points": 1,
     "schema_version": 3,
     "solution": false
    }
   },
   "outputs": [],
   "source": [
    "\"\"\"Check that squares raises an error for invalid inputs\"\"\"\n",
    "def test_func_throws(func, ErrorType):\n",
    "    try:\n",
    "        func()\n",
    "    except ErrorType:\n",
    "        return True\n",
    "    else:\n",
    "        print('Did not raise right type of error!')\n",
    "        return False\n",
    "    \n",
    "from hashlib import sha1\n",
    "assert str(type(test_func_throws(lambda : squares(0), ValueError))) == \"<class 'bool'>\", \"type of test_func_throws(lambda : squares(0), ValueError) is not bool. test_func_throws(lambda : squares(0), ValueError) should be a bool\"\n",
    "assert str(test_func_throws(lambda : squares(0), ValueError)) == \"True\", \"boolean value of test_func_throws(lambda : squares(0), ValueError) is not correct\"\n",
    "\n",
    "assert str(type(test_func_throws(lambda : squares(-4), ValueError))) == \"<class 'bool'>\", \"type of test_func_throws(lambda : squares(-4), ValueError) is not bool. test_func_throws(lambda : squares(-4), ValueError) should be a bool\"\n",
    "assert str(test_func_throws(lambda : squares(-4), ValueError)) == \"True\", \"boolean value of test_func_throws(lambda : squares(-4), ValueError) is not correct\"\n",
    "\n",
    "\n",
    "print('Success!')"
   ]
  },
  {
   "cell_type": "markdown",
   "metadata": {},
   "source": [
    "---\n",
    "\n",
    "## Part B (1 point)\n",
    "\n",
    "Using your `squares` function, write a function that computes the sum of the squares of the numbers from 1 to $n$. Your function should call the `squares` function -- it should NOT reimplement its functionality."
   ]
  },
  {
   "cell_type": "code",
   "execution_count": null,
   "metadata": {
    "execution": {
     "iopub.execute_input": "2022-07-28T18:44:01.362705Z",
     "iopub.status.busy": "2022-07-28T18:44:01.362609Z",
     "iopub.status.idle": "2022-07-28T18:44:01.364919Z",
     "shell.execute_reply": "2022-07-28T18:44:01.364507Z"
    },
    "nbgrader": {
     "grade": false,
     "grade_id": "sum_of_squares",
     "locked": false,
     "schema_version": 3,
     "solution": true
    }
   },
   "outputs": [],
   "source": [
    "def sum_of_squares(n):\n",
    "    \"\"\"Compute the sum of the squares of numbers from 1 to n.\"\"\"\n",
    "    ### BEGIN SOLUTION\n",
    "    return sum(squares(n))\n",
    "    ### END SOLUTION"
   ]
  },
  {
   "cell_type": "markdown",
   "metadata": {},
   "source": [
    "The sum of squares from 1 to 10 should be 385. Verify that this is the answer you get:"
   ]
  },
  {
   "cell_type": "code",
   "execution_count": null,
   "metadata": {
    "execution": {
     "iopub.execute_input": "2022-07-28T18:44:01.366527Z",
     "iopub.status.busy": "2022-07-28T18:44:01.366432Z",
     "iopub.status.idle": "2022-07-28T18:44:01.369140Z",
     "shell.execute_reply": "2022-07-28T18:44:01.368844Z"
    }
   },
   "outputs": [],
   "source": [
    "sum_of_squares(10)"
   ]
  },
  {
   "cell_type": "code",
   "execution_count": null,
   "metadata": {
    "execution": {
     "iopub.execute_input": "2022-07-28T18:44:01.370797Z",
     "iopub.status.busy": "2022-07-28T18:44:01.370662Z",
     "iopub.status.idle": "2022-07-28T18:44:01.373266Z",
     "shell.execute_reply": "2022-07-28T18:44:01.372975Z"
    },
    "nbgrader": {
     "grade": true,
     "grade_id": "correct_sum_of_squares",
     "locked": false,
     "points": 0.5,
     "schema_version": 3,
     "solution": false
    }
   },
   "outputs": [],
   "source": [
    "\"\"\"Check that sum_of_squares returns the correct answer for various inputs.\"\"\"\n",
    "from hashlib import sha1\n",
    "assert str(type(sum_of_squares(1))) == \"<class 'int'>\", \"type of sum_of_squares(1) is not int. Please make sure it is int and not np.int64, etc. You can cast your value into float using int()\"\n",
    "assert str(sum_of_squares(1)) == \"1\", \"value of sum_of_squares(1) is not correct\"\n",
    "\n",
    "assert str(type(sum_of_squares(2))) == \"<class 'int'>\", \"type of sum_of_squares(2) is not int. Please make sure it is int and not np.int64, etc. You can cast your value into float using int()\"\n",
    "assert str(sum_of_squares(2)) == \"5\", \"value of sum_of_squares(2) is not correct\"\n",
    "\n",
    "assert str(type(sum_of_squares(10))) == \"<class 'int'>\", \"type of sum_of_squares(10) is not int. Please make sure it is int and not np.int64, etc. You can cast your value into float using int()\"\n",
    "assert str(sum_of_squares(10)) == \"385\", \"value of sum_of_squares(10) is not correct\"\n",
    "\n",
    "assert str(type(sum_of_squares(11))) == \"<class 'int'>\", \"type of sum_of_squares(11) is not int. Please make sure it is int and not np.int64, etc. You can cast your value into float using int()\"\n",
    "assert str(sum_of_squares(11)) == \"506\", \"value of sum_of_squares(11) is not correct\"\n",
    "\n",
    "\n",
    "print('Success!')"
   ]
  },
  {
   "cell_type": "code",
   "execution_count": null,
   "metadata": {
    "execution": {
     "iopub.execute_input": "2022-07-28T18:44:01.459158Z",
     "iopub.status.busy": "2022-07-28T18:44:01.459024Z",
     "iopub.status.idle": "2022-07-28T18:44:01.461300Z",
     "shell.execute_reply": "2022-07-28T18:44:01.460872Z"
    },
    "nbgrader": {
     "grade": true,
     "grade_id": "sum_of_squares_uses_squares",
     "locked": false,
     "points": 0.5,
     "schema_version": 3,
     "solution": false
    }
   },
   "outputs": [],
   "source": [
    "\"\"\"Check that sum_of_squares relies on squares.\"\"\"\n",
    "\n",
    "orig_squares = squares\n",
    "del squares\n",
    "\n",
    "from hashlib import sha1\n",
    "assert str(type(test_func_throws(lambda : sum_of_squares(1), NameError))) == \"<class 'bool'>\", \"type of test_func_throws(lambda : sum_of_squares(1), NameError) is not bool. test_func_throws(lambda : sum_of_squares(1), NameError) should be a bool\"\n",
    "assert str(test_func_throws(lambda : sum_of_squares(1), NameError)) == \"True\", \"boolean value of test_func_throws(lambda : sum_of_squares(1), NameError) is not correct\"\n",
    "\n",
    "\n",
    "squares = orig_squares\n",
    "\n",
    "print('Success!')"
   ]
  },
  {
   "cell_type": "markdown",
   "metadata": {},
   "source": [
    "---\n",
    "## Part C (1 point)\n",
    "\n",
    "Using LaTeX math notation, write out the equation that is implemented by your `sum_of_squares` function."
   ]
  },
  {
   "cell_type": "markdown",
   "metadata": {
    "nbgrader": {
     "grade": true,
     "grade_id": "sum_of_squares_equation",
     "locked": false,
     "points": 1,
     "schema_version": 3,
     "solution": true
    }
   },
   "source": [
    "$\\sum_{i=1}^n i^2$"
   ]
  },
  {
   "cell_type": "markdown",
   "metadata": {},
   "source": [
    "---\n",
    "## Part D (2 points)\n",
    "\n",
    "Find a usecase for your `sum_of_squares` function and implement that usecase in the cell below."
   ]
  },
  {
   "cell_type": "code",
   "execution_count": null,
   "metadata": {
    "execution": {
     "iopub.execute_input": "2022-07-28T18:44:01.485402Z",
     "iopub.status.busy": "2022-07-28T18:44:01.485271Z",
     "iopub.status.idle": "2022-07-28T18:44:01.487381Z",
     "shell.execute_reply": "2022-07-28T18:44:01.487054Z"
    },
    "nbgrader": {
     "grade": true,
     "grade_id": "sum_of_squares_application",
     "locked": false,
     "points": 2,
     "schema_version": 3,
     "solution": true
    }
   },
   "outputs": [],
   "source": [
    "def pyramidal_number(n):\n",
    "    \"\"\"Returns the n^th pyramidal number\"\"\"\n",
    "    return sum_of_squares(n)"
   ]
  },
  {
   "cell_type": "markdown",
   "metadata": {
    "nbgrader": {
     "grade": false,
     "grade_id": "cell-938593c4a215c6cc",
     "locked": true,
     "points": 4,
     "schema_version": 3,
     "solution": false,
     "task": true
    }
   },
   "source": [
    "---\n",
    "## Part E (4 points)\n",
    "\n",
    "State the formulae for an arithmetic and geometric sum and verify them numerically for an example of your choice."
   ]
  }
 ],
 "metadata": {
  "celltoolbar": "Create Assignment",
  "kernelspec": {
   "display_name": "Python 3",
   "language": "python",
   "name": "python3"
  },
  "language_info": {
   "codemirror_mode": {
    "name": "ipython",
    "version": 3
   },
   "file_extension": ".py",
   "mimetype": "text/x-python",
   "name": "python",
   "nbconvert_exporter": "python",
   "pygments_lexer": "ipython3",
   "version": "3.8.10"
  }
 },
 "nbformat": 4,
 "nbformat_minor": 1
}
