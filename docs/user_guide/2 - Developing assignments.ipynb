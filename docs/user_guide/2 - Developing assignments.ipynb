{
 "cells": [
  {
   "cell_type": "markdown",
   "metadata": {},
   "source": [
    "# Developing assignments with the assignment toolbar"
   ]
  },
  {
   "cell_type": "markdown",
   "metadata": {},
   "source": [
    "nbgrader includes an extension to the notebook interface that allows\n",
    "cells to be marked for grading.\n",
    "\n",
    "To install the toolbar, make sure you have installed nbgrader (follow the instructions [here](1 - Installing.ipynb)). Then, edit your `custom.js` (found in `$(ipython locate profile)/static/custom/custom.js`) to include the following:"
   ]
  },
  {
   "cell_type": "markdown",
   "metadata": {},
   "source": [
    "```javascript\n",
    "require(['base/js/events'], function (events) {\n",
    "    events.on('app_initialized.NotebookApp', function() {\n",
    "        IPython.load_extensions('nbgrader');\n",
    "    });\n",
    "});\n",
    "```"
   ]
  },
  {
   "cell_type": "markdown",
   "metadata": {},
   "source": [
    "Once the toolbar has been installed, you should see it in the drop down\n",
    "\"Cell toolbar\" menu:\n",
    "\n",
    "![](images/select_assignment_toolbar.png)\n",
    "\n",
    "Selecting the \"Create Assignment\" toolbar will create a separate toolbar\n",
    "for each cell. By default, this consists of two checkboxes:\n",
    "\n",
    "![](images/assignment_toolbar.png)"
   ]
  },
  {
   "cell_type": "markdown",
   "metadata": {},
   "source": [
    "## \"Grade\" cells"
   ]
  },
  {
   "cell_type": "markdown",
   "metadata": {},
   "source": [
    "If you select the \"Grade?\" checkbox for a cell, it will mark that cell\n",
    "as a \"grader\" cell. Grader cells are either code cells that will be run\n",
    "by the autograder, or text cells that will be graded by hand by a human\n",
    "grader. Regardless of cell type, all grader cells should have an id, and\n",
    "a point value, which can be specified through the toolbar:\n",
    "\n",
    "![](images/grader_cell.png)\n",
    "\n",
    "Grader code cells should contain `assert` statements (or similar). When\n",
    "run through the autograder, the cell will pass if no errors are raised,\n",
    "and fail otherwise."
   ]
  },
  {
   "cell_type": "markdown",
   "metadata": {},
   "source": [
    "## \"Solution\" cells"
   ]
  },
  {
   "cell_type": "markdown",
   "metadata": {},
   "source": [
    "If you select the \"Solution?\" checkbox for a cell, it will mark that cell as a \"solution\" cell. When creating the [release version](3 - Releasing assignments.ipynb) of the assignment, the bodies of solution cells will be replaced with a code or text stub indicating to the students that they should put their answer or solution there.\n",
    "\n",
    "Cells can be both grader and solution cells. This case arises with\n",
    "written answers, for example, because the cell contains both the\n",
    "solution to the problem, but still needs to be graded by hand by a human\n",
    "grader:\n",
    "\n",
    "![](images/grader_and_solution_cell.png)\n",
    "\n",
    "Solutions can also be specified inline, through the use of a special\n",
    "syntax such as `### BEGIN SOLUTION` and `### END SOLUTION`. For example:\n",
    "\n",
    "![](images/solution_cell.png)\n",
    "\n",
    "When creating the [release version](3 - Releasing assignments.ipynb), the region between\n",
    "the special syntax lines will be replaced with the code or text stub.\n",
    "\n",
    "Even if cells with the inline syntax are be marked as solution cells\n",
    "with the checkbox, only the designated region will be replaced with the\n",
    "stub, rather than the entire cell contents."
   ]
  }
 ],
 "metadata": {
  "kernelspec": {
   "display_name": "Python 3",
   "language": "python",
   "name": "python3"
  },
  "language_info": {
   "codemirror_mode": {
    "name": "ipython",
    "version": 3
   },
   "file_extension": ".py",
   "mimetype": "text/x-python",
   "name": "python",
   "nbconvert_exporter": "python",
   "pygments_lexer": "ipython3",
   "version": "3.4.2"
  }
 },
 "nbformat": 4,
 "nbformat_minor": 0
}
